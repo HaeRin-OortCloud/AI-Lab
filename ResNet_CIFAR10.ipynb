{
  "nbformat": 4,
  "nbformat_minor": 0,
  "metadata": {
    "colab": {
      "provenance": [],
      "authorship_tag": "ABX9TyNsxG9jDDeF5AfOroPxSh/y",
      "include_colab_link": true
    },
    "kernelspec": {
      "name": "python3",
      "display_name": "Python 3"
    },
    "language_info": {
      "name": "python"
    }
  },
  "cells": [
    {
      "cell_type": "markdown",
      "metadata": {
        "id": "view-in-github",
        "colab_type": "text"
      },
      "source": [
        "<a href=\"https://colab.research.google.com/github/HaeRin-OortCloud/AI-Lab/blob/main/ResNet_CIFAR10.ipynb\" target=\"_parent\"><img src=\"https://colab.research.google.com/assets/colab-badge.svg\" alt=\"Open In Colab\"/></a>"
      ]
    },
    {
      "cell_type": "code",
      "execution_count": 31,
      "metadata": {
        "id": "Jb6rJhRb42LN"
      },
      "outputs": [],
      "source": [
        "# Module Import\n",
        "import numpy as np\n",
        "import matplotlib.pyplot as plt\n",
        "import torch\n",
        "import torch.nn as nn\n",
        "import torch.nn.functional as F\n",
        "from torchvision import transforms, datasets"
      ]
    },
    {
      "cell_type": "code",
      "source": [
        "# Device Check\n",
        "if torch.cuda.is_available():\n",
        "  DEVICE = torch.device('cuda')\n",
        "else:\n",
        "  DEVICE = torch.device('cpu')\n",
        "print('Using PyTorch version:', torch.__version__, ' Device:', DEVICE)\n",
        "      \n",
        "BATCH_SIZE = 32\n",
        "EPOCHS = 10"
      ],
      "metadata": {
        "colab": {
          "base_uri": "https://localhost:8080/"
        },
        "id": "M3TmwbQFDhy9",
        "outputId": "dd4bc48a-f537-4319-b2b4-3051b75f9ad0"
      },
      "execution_count": 32,
      "outputs": [
        {
          "output_type": "stream",
          "name": "stdout",
          "text": [
            "Using PyTorch version: 1.13.0+cu116  Device: cpu\n"
          ]
        }
      ]
    },
    {
      "cell_type": "code",
      "source": [
        "# CIFAR10 Data Download\n",
        "train_dataset = datasets.CIFAR10(root = \"../data/CIFAR_10\", \n",
        "                                 train = True, \n",
        "                                 download = True,\n",
        "                                 transform = transforms.Compose([\n",
        "                                     transforms.RandomHorizontalFlip(),\n",
        "                                     transforms.ToTensor()\n",
        "                                 ]))\n",
        "\n",
        "test_dataset = datasets.CIFAR10(root = \"../data/CIFAR_10\",\n",
        "                                train = False,\n",
        "                                transform = transforms.Compose([\n",
        "                                     transforms.RandomHorizontalFlip(),\n",
        "                                     transforms.ToTensor()\n",
        "                                 ]))\n",
        "\n",
        "train_loader = torch.utils.data.DataLoader(dataset = train_dataset, batch_size = BATCH_SIZE, shuffle = True)\n",
        "\n",
        "test_loader = torch.utils.data.DataLoader(dataset = test_dataset, batch_size = BATCH_SIZE, shuffle = False)"
      ],
      "metadata": {
        "colab": {
          "base_uri": "https://localhost:8080/"
        },
        "id": "iOTnOObcEKvO",
        "outputId": "60f95a86-79d6-4068-c59e-536c500c220f"
      },
      "execution_count": 33,
      "outputs": [
        {
          "output_type": "stream",
          "name": "stdout",
          "text": [
            "Files already downloaded and verified\n"
          ]
        }
      ]
    },
    {
      "cell_type": "code",
      "source": [
        "# Data Cherck(1)\n",
        "for (x_train, y_train) in train_loader:\n",
        "  print('x_train:', x_train.size(), 'type:', x_train.type())\n",
        "  print('y_train:', y_train.size(), 'type:', y_train.type())\n",
        "  break"
      ],
      "metadata": {
        "colab": {
          "base_uri": "https://localhost:8080/"
        },
        "id": "l-kgs7JtElFQ",
        "outputId": "b5b74b1a-ed05-40f7-8935-f0aa32814292"
      },
      "execution_count": 34,
      "outputs": [
        {
          "output_type": "stream",
          "name": "stdout",
          "text": [
            "x_train: torch.Size([32, 3, 32, 32]) type: torch.FloatTensor\n",
            "y_train: torch.Size([32]) type: torch.LongTensor\n"
          ]
        }
      ]
    },
    {
      "cell_type": "code",
      "source": [
        "# Data Check(2)\n",
        "pltsize = 1\n",
        "plt.figure(figsize = (10 * pltsize, pltsize))\n",
        "\n",
        "for i in range(10):\n",
        "  plt.subplot(1, 10, i + 1)\n",
        "  plt.axis('off')\n",
        "  plt.imshow(np.transpose(x_train[i], (1, 2, 0)))\n",
        "  plt.title('Class: ' + str(y_train[i].item()))"
      ],
      "metadata": {
        "colab": {
          "base_uri": "https://localhost:8080/",
          "height": 94
        },
        "id": "RVnAdW3YFk48",
        "outputId": "d735b0ff-36a0-4471-ff03-d02c902ed9ce"
      },
      "execution_count": 35,
      "outputs": [
        {
          "output_type": "display_data",
          "data": {
            "text/plain": [
              "<Figure size 720x72 with 10 Axes>"
            ],
            "image/png": "[encoded data removed]"
          },
          "metadata": {
            "needs_background": "light"
          }
        }
      ]
    },
    {
      "cell_type": "code",
      "source": [
        "# ResNet Model Design\n",
        "\n",
        "## Basic Block 정의\n",
        "class BasicBlock(nn.Module):\n",
        "  def __init__(self, in_planes, planes, stride = 1):\n",
        "    super(BasicBlock, self).__init__()\n",
        "    self.conv1 = nn.Conv2d(in_planes, planes, kernel_size = 3, stride = stride, padding = 1, bias = False)\n",
        "    self.bn1 = nn.BatchNorm2d(planes)\n",
        "    self.conv2 = nn.Conv2d(planes, planes, kernel_size = 3, stride = 1, padding = 1, bias = False)\n",
        "    self.bn2 = nn.BatchNorm2d(planes)\n",
        "\n",
        "    self.shortcut = nn.Sequential()\n",
        "    if stride != 1 or in_planes != planes:\n",
        "      self.shortcut = nn.Sequential(\n",
        "          nn.Conv2d(in_planes, planes, kernel_size = 1, stride = stride, bias = False),\n",
        "          nn.BatchNorm2d(planes)\n",
        "          )\n",
        "  \n",
        "  def forward(self, x):\n",
        "    out = F.relu(self.bn1(self.conv1(x)))\n",
        "    out = self.bn2(self.conv2(out))\n",
        "    out += self.shortcut(x)\n",
        "    out = F.relu(out)\n",
        "    return out\n",
        "\n",
        "\n",
        "## ResNet 정의\n",
        "class ResNet(nn.Module):\n",
        "  def __init__(self, num_classes = 10):\n",
        "    super(ResNet, self).__init__()\n",
        "    self.in_planes = 16\n",
        "\n",
        "    self.conv1 = nn.Conv2d(3, 16, kernel_size = 3, stride = 1, padding = 1, bias = False)\n",
        "    self.bn1 = nn.BatchNorm2d(16)\n",
        "    self.layer1 = self._make_layer(16, 2, stride = 1)\n",
        "    self.layer2 = self._make_layer(32, 2, stride = 2)\n",
        "    self.layer3 = self._make_layer(64, 2, stride = 2)\n",
        "    self.linear = nn.Linear(64, num_classes)\n",
        "  \n",
        "  def _make_layer(self, planes, num_blocks, stride):\n",
        "    strides = [stride] + [1] * (num_blocks - 1)\n",
        "    layers = []\n",
        "    for stride in strides:\n",
        "      layers.append(BasicBlock(self.in_planes, planes, stride))\n",
        "      self.in_planes = planes\n",
        "    return nn.Sequential(*layers)\n",
        "\n",
        "  def forward(self, x):\n",
        "    out = F.relu(self.bn1(self.conv1(x)))\n",
        "    out = self.layer1(out)\n",
        "    out = self.layer2(out)\n",
        "    out = self.layer3(out)\n",
        "    out = F.avg_pool2d(out, 8)\n",
        "    out = out.view(out.size(0), -1)\n",
        "    out = self.linear(out) \n",
        "    return out"
      ],
      "metadata": {
        "id": "-O7sF_-KHTqR"
      },
      "execution_count": 36,
      "outputs": []
    },
    {
      "cell_type": "code",
      "source": [
        "# Objective Function, Optimizer, Learning Rate\n",
        "model = ResNet().to(DEVICE)\n",
        "learning_rate = 0.1\n",
        "\n",
        "criterion = nn.CrossEntropyLoss()\n",
        "optimizer = torch.optim.SGD(model.parameters(), lr = learning_rate, momentum = 0.9)\n",
        "\n",
        "def adjust_learning_rate(optimizer, Epoch):\n",
        "  lr = learning_rate\n",
        "  if Epoch >= 100:\n",
        "    lr /= 10\n",
        "  if Epoch >= 150:\n",
        "    lr /= 10\n",
        "  for param_group in optimizer.param_groups:\n",
        "    param_group['lr'] = lr"
      ],
      "metadata": {
        "id": "dejPk_gKBzXD"
      },
      "execution_count": 37,
      "outputs": []
    },
    {
      "cell_type": "code",
      "source": [
        "# def Train\n",
        "def train(model, train_loader, optimizer, log_interval):\n",
        "  model.train()\n",
        "  for batch_idx, (image, label) in enumerate(train_loader):\n",
        "    image = image.to(DEVICE)\n",
        "    label = label.to(DEVICE)\n",
        "    optimizer.zero_grad()\n",
        "    output = model(image)\n",
        "    loss = criterion(output, label)\n",
        "    loss.backward()\n",
        "    optimizer.step()\n",
        "\n",
        "    if batch_idx % log_interval == 0:\n",
        "      print(\"Train Epoch: {} [{}/{}({:.0f}%)]\\tTrain Loss: {:.6f}\".\n",
        "            format(Epoch, batch_idx * len(image), len(train_loader.dataset), 100. * batch_idx / len(train_loader), loss.item())) "
      ],
      "metadata": {
        "id": "Xi4Q233ILv-g"
      },
      "execution_count": 38,
      "outputs": []
    },
    {
      "cell_type": "code",
      "source": [
        "# def Evaluate\n",
        "def evaluate(model, test_loader):\n",
        "  model.eval()\n",
        "  test_loss = 0\n",
        "  correct = 0\n",
        "\n",
        "  with torch.no_grad():\n",
        "    for image, label in test_loader:\n",
        "      image = image.to(DEVICE)\n",
        "      label = label.to(DEVICE)\n",
        "      output = model(image)\n",
        "      test_loss += criterion(output, label).item()\n",
        "      prediction = output.max(1, keepdim = True)[1]\n",
        "      correct += prediction.eq(label.view_as(prediction)).sum().item()\n",
        "\n",
        "  test_loss /= len(test_loader.dataset)\n",
        "  test_accuracy = 100. * correct / len(test_loader.dataset)\n",
        "  return test_loss, test_accuracy"
      ],
      "metadata": {
        "id": "5b1b_JqHT3Yg"
      },
      "execution_count": 39,
      "outputs": []
    },
    {
      "cell_type": "code",
      "source": [
        "# Final\n",
        "for Epoch in range(1, EPOCHS + 1):\n",
        "  adjust_learning_rate(optimizer, Epoch)\n",
        "  train(model, train_loader, optimizer, log_interval = 200)\n",
        "  test_loss, test_accuracy = evaluate(model, test_loader)\n",
        "  print(\"\\n[EPOCH: {}], \\tTest Loss: {:.4f}, \\tTest Accuracy: {:.2f} % \\n\".\n",
        "        format(Epoch, test_loss, test_accuracy))"
      ],
      "metadata": {
        "colab": {
          "base_uri": "https://localhost:8080/"
        },
        "id": "W_O5_E2fV-2i",
        "outputId": "a4a7195b-adf5-426a-bedc-919c404c2d3d"
      },
      "execution_count": 40,
      "outputs": [
        {
          "output_type": "stream",
          "name": "stdout",
          "text": [
            "Train Epoch: 1 [0/50000(0%)]\tTrain Loss: 2.319315\n",
            "Train Epoch: 1 [6400/50000(13%)]\tTrain Loss: 2.034137\n",
            "Train Epoch: 1 [12800/50000(26%)]\tTrain Loss: 1.925215\n",
            "Train Epoch: 1 [19200/50000(38%)]\tTrain Loss: 1.616937\n",
            "Train Epoch: 1 [25600/50000(51%)]\tTrain Loss: 1.390275\n",
            "Train Epoch: 1 [32000/50000(64%)]\tTrain Loss: 1.016265\n",
            "Train Epoch: 1 [38400/50000(77%)]\tTrain Loss: 1.673604\n",
            "Train Epoch: 1 [44800/50000(90%)]\tTrain Loss: 1.344167\n",
            "\n",
            "[EPOCH: 1], \tTest Loss: 0.0367, \tTest Accuracy: 57.85 % \n",
            "\n",
            "Train Epoch: 2 [0/50000(0%)]\tTrain Loss: 1.390966\n",
            "Train Epoch: 2 [6400/50000(13%)]\tTrain Loss: 1.014179\n",
            "Train Epoch: 2 [12800/50000(26%)]\tTrain Loss: 1.030869\n",
            "Train Epoch: 2 [19200/50000(38%)]\tTrain Loss: 1.097080\n",
            "Train Epoch: 2 [25600/50000(51%)]\tTrain Loss: 1.121603\n",
            "Train Epoch: 2 [32000/50000(64%)]\tTrain Loss: 1.367618\n",
            "Train Epoch: 2 [38400/50000(77%)]\tTrain Loss: 1.150088\n",
            "Train Epoch: 2 [44800/50000(90%)]\tTrain Loss: 0.962436\n",
            "\n",
            "[EPOCH: 2], \tTest Loss: 0.0273, \tTest Accuracy: 69.03 % \n",
            "\n",
            "Train Epoch: 3 [0/50000(0%)]\tTrain Loss: 0.799670\n",
            "Train Epoch: 3 [6400/50000(13%)]\tTrain Loss: 1.258679\n",
            "Train Epoch: 3 [12800/50000(26%)]\tTrain Loss: 1.048628\n",
            "Train Epoch: 3 [19200/50000(38%)]\tTrain Loss: 1.092499\n",
            "Train Epoch: 3 [25600/50000(51%)]\tTrain Loss: 0.607584\n",
            "Train Epoch: 3 [32000/50000(64%)]\tTrain Loss: 0.863417\n",
            "Train Epoch: 3 [38400/50000(77%)]\tTrain Loss: 1.134935\n",
            "Train Epoch: 3 [44800/50000(90%)]\tTrain Loss: 0.969463\n",
            "\n",
            "[EPOCH: 3], \tTest Loss: 0.0268, \tTest Accuracy: 70.84 % \n",
            "\n",
            "Train Epoch: 4 [0/50000(0%)]\tTrain Loss: 0.678993\n",
            "Train Epoch: 4 [6400/50000(13%)]\tTrain Loss: 0.561763\n",
            "Train Epoch: 4 [12800/50000(26%)]\tTrain Loss: 0.751569\n",
            "Train Epoch: 4 [19200/50000(38%)]\tTrain Loss: 0.636406\n",
            "Train Epoch: 4 [25600/50000(51%)]\tTrain Loss: 0.983399\n",
            "Train Epoch: 4 [32000/50000(64%)]\tTrain Loss: 0.534427\n",
            "Train Epoch: 4 [38400/50000(77%)]\tTrain Loss: 0.770521\n",
            "Train Epoch: 4 [44800/50000(90%)]\tTrain Loss: 0.638138\n",
            "\n",
            "[EPOCH: 4], \tTest Loss: 0.0196, \tTest Accuracy: 78.33 % \n",
            "\n",
            "Train Epoch: 5 [0/50000(0%)]\tTrain Loss: 0.734469\n",
            "Train Epoch: 5 [6400/50000(13%)]\tTrain Loss: 0.381848\n",
            "Train Epoch: 5 [12800/50000(26%)]\tTrain Loss: 0.798214\n",
            "Train Epoch: 5 [19200/50000(38%)]\tTrain Loss: 0.257510\n",
            "Train Epoch: 5 [25600/50000(51%)]\tTrain Loss: 0.555606\n",
            "Train Epoch: 5 [32000/50000(64%)]\tTrain Loss: 1.033444\n",
            "Train Epoch: 5 [38400/50000(77%)]\tTrain Loss: 0.653309\n",
            "Train Epoch: 5 [44800/50000(90%)]\tTrain Loss: 0.313737\n",
            "\n",
            "[EPOCH: 5], \tTest Loss: 0.0204, \tTest Accuracy: 77.58 % \n",
            "\n",
            "Train Epoch: 6 [0/50000(0%)]\tTrain Loss: 0.464744\n",
            "Train Epoch: 6 [6400/50000(13%)]\tTrain Loss: 0.426684\n",
            "Train Epoch: 6 [12800/50000(26%)]\tTrain Loss: 0.316676\n",
            "Train Epoch: 6 [19200/50000(38%)]\tTrain Loss: 0.546488\n",
            "Train Epoch: 6 [25600/50000(51%)]\tTrain Loss: 0.347136\n",
            "Train Epoch: 6 [32000/50000(64%)]\tTrain Loss: 0.548288\n",
            "Train Epoch: 6 [38400/50000(77%)]\tTrain Loss: 0.373466\n",
            "Train Epoch: 6 [44800/50000(90%)]\tTrain Loss: 0.478827\n",
            "\n",
            "[EPOCH: 6], \tTest Loss: 0.0204, \tTest Accuracy: 77.65 % \n",
            "\n",
            "Train Epoch: 7 [0/50000(0%)]\tTrain Loss: 0.389461\n",
            "Train Epoch: 7 [6400/50000(13%)]\tTrain Loss: 0.433812\n",
            "Train Epoch: 7 [12800/50000(26%)]\tTrain Loss: 0.796276\n",
            "Train Epoch: 7 [19200/50000(38%)]\tTrain Loss: 0.741993\n",
            "Train Epoch: 7 [25600/50000(51%)]\tTrain Loss: 0.765959\n",
            "Train Epoch: 7 [32000/50000(64%)]\tTrain Loss: 0.382532\n",
            "Train Epoch: 7 [38400/50000(77%)]\tTrain Loss: 0.286582\n",
            "Train Epoch: 7 [44800/50000(90%)]\tTrain Loss: 0.457825\n",
            "\n",
            "[EPOCH: 7], \tTest Loss: 0.0180, \tTest Accuracy: 80.66 % \n",
            "\n",
            "Train Epoch: 8 [0/50000(0%)]\tTrain Loss: 0.411601\n",
            "Train Epoch: 8 [6400/50000(13%)]\tTrain Loss: 0.334101\n",
            "Train Epoch: 8 [12800/50000(26%)]\tTrain Loss: 0.279644\n",
            "Train Epoch: 8 [19200/50000(38%)]\tTrain Loss: 0.292733\n",
            "Train Epoch: 8 [25600/50000(51%)]\tTrain Loss: 0.123609\n",
            "Train Epoch: 8 [32000/50000(64%)]\tTrain Loss: 0.413811\n",
            "Train Epoch: 8 [38400/50000(77%)]\tTrain Loss: 0.641595\n",
            "Train Epoch: 8 [44800/50000(90%)]\tTrain Loss: 0.180909\n",
            "\n",
            "[EPOCH: 8], \tTest Loss: 0.0166, \tTest Accuracy: 81.95 % \n",
            "\n",
            "Train Epoch: 9 [0/50000(0%)]\tTrain Loss: 0.182075\n",
            "Train Epoch: 9 [6400/50000(13%)]\tTrain Loss: 0.373774\n",
            "Train Epoch: 9 [12800/50000(26%)]\tTrain Loss: 0.281158\n",
            "Train Epoch: 9 [19200/50000(38%)]\tTrain Loss: 0.438090\n",
            "Train Epoch: 9 [25600/50000(51%)]\tTrain Loss: 0.652714\n",
            "Train Epoch: 9 [32000/50000(64%)]\tTrain Loss: 0.298727\n",
            "Train Epoch: 9 [38400/50000(77%)]\tTrain Loss: 0.248822\n",
            "Train Epoch: 9 [44800/50000(90%)]\tTrain Loss: 0.411898\n",
            "\n",
            "[EPOCH: 9], \tTest Loss: 0.0150, \tTest Accuracy: 83.58 % \n",
            "\n",
            "Train Epoch: 10 [0/50000(0%)]\tTrain Loss: 0.443579\n",
            "Train Epoch: 10 [6400/50000(13%)]\tTrain Loss: 0.412245\n",
            "Train Epoch: 10 [12800/50000(26%)]\tTrain Loss: 0.752194\n",
            "Train Epoch: 10 [19200/50000(38%)]\tTrain Loss: 0.215565\n",
            "Train Epoch: 10 [25600/50000(51%)]\tTrain Loss: 0.233709\n",
            "Train Epoch: 10 [32000/50000(64%)]\tTrain Loss: 0.124066\n",
            "Train Epoch: 10 [38400/50000(77%)]\tTrain Loss: 0.326795\n",
            "Train Epoch: 10 [44800/50000(90%)]\tTrain Loss: 0.248151\n",
            "\n",
            "[EPOCH: 10], \tTest Loss: 0.0174, \tTest Accuracy: 81.14 % \n",
            "\n"
          ]
        }
      ]
    }
  ]
}