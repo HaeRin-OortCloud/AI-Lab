{
  "nbformat": 4,
  "nbformat_minor": 0,
  "metadata": {
    "colab": {
      "provenance": [],
      "authorship_tag": "ABX9TyMcCyQE8Jki3uZuuN2lGQ+k",
      "include_colab_link": true
    },
    "kernelspec": {
      "name": "python3",
      "display_name": "Python 3"
    },
    "language_info": {
      "name": "python"
    }
  },
  "cells": [
    {
      "cell_type": "markdown",
      "metadata": {
        "id": "view-in-github",
        "colab_type": "text"
      },
      "source": [
        "<a href=\"https://colab.research.google.com/github/HaeRin-OortCloud/AI-Lab/blob/main/ResNet_CIFAR10.ipynb\" target=\"_parent\"><img src=\"https://colab.research.google.com/assets/colab-badge.svg\" alt=\"Open In Colab\"/></a>"
      ]
    },
    {
      "cell_type": "code",
      "execution_count": 25,
      "metadata": {
        "id": "Jb6rJhRb42LN"
      },
      "outputs": [],
      "source": [
        "# Module Import\n",
        "import numpy as np\n",
        "import matplotlib.pyplot as plt\n",
        "import torch\n",
        "import torch.nn as nn\n",
        "import torch.nn.functional as F\n",
        "from torchvision import transforms, datasets"
      ]
    },
    {
      "cell_type": "code",
      "source": [
        "# Device Check\n",
        "if torch.cuda.is_available():\n",
        "  DEVICE = torch.device('cuda')\n",
        "else:\n",
        "  DEVICE = torch.device('cpu')\n",
        "print('Using PyTorch version:', torch.__version__, ' Device:', DEVICE)\n",
        "      \n",
        "BATCH_SIZE = 32\n",
        "EPOCHS = 10"
      ],
      "metadata": {
        "colab": {
          "base_uri": "https://localhost:8080/"
        },
        "id": "M3TmwbQFDhy9",
        "outputId": "2690059e-f65f-45ec-afc4-f325ee365419"
      },
      "execution_count": 26,
      "outputs": [
        {
          "output_type": "stream",
          "name": "stdout",
          "text": [
            "Using PyTorch version: 1.13.0+cu116  Device: cpu\n"
          ]
        }
      ]
    },
    {
      "cell_type": "code",
      "source": [
        "# CIFAR10 Data Download\n",
        "train_dataset = datasets.CIFAR10(root = \"../data/CIFAR_10\", \n",
        "                                 train = True, \n",
        "                                 download = True,\n",
        "                                 transform = transforms.Compose([\n",
        "                                     transforms.RandomCrop(32, padding = 4),\n",
        "                                     transforms.RandomHorizontalFlip(),\n",
        "                                     transforms.ToTensor()\n",
        "                                 ]))\n",
        "\n",
        "test_dataset = datasets.CIFAR10(root = \"../data/CIFAR_10\",\n",
        "                                train = False,\n",
        "                                transform = transforms.Compose([\n",
        "                                    transforms.RandomCrop(32, padding = 4),\n",
        "                                    transforms.RandomHorizontalFlip(),\n",
        "                                    transforms.ToTensor()\n",
        "                                 ]))\n",
        "\n",
        "train_loader = torch.utils.data.DataLoader(dataset = train_dataset, batch_size = BATCH_SIZE, shuffle = True)\n",
        "\n",
        "test_loader = torch.utils.data.DataLoader(dataset = test_dataset, batch_size = BATCH_SIZE, shuffle = False)"
      ],
      "metadata": {
        "colab": {
          "base_uri": "https://localhost:8080/"
        },
        "id": "iOTnOObcEKvO",
        "outputId": "6cd9032b-c964-4f07-c0f3-8e116af67310"
      },
      "execution_count": 27,
      "outputs": [
        {
          "output_type": "stream",
          "name": "stdout",
          "text": [
            "Files already downloaded and verified\n"
          ]
        }
      ]
    },
    {
      "cell_type": "code",
      "source": [
        "# Data Cherck(1)\n",
        "for (x_train, y_train) in train_loader:\n",
        "  print('x_train:', x_train.size(), 'type:', x_train.type())\n",
        "  print('y_train:', y_train.size(), 'type:', y_train.type())\n",
        "  break"
      ],
      "metadata": {
        "colab": {
          "base_uri": "https://localhost:8080/"
        },
        "id": "l-kgs7JtElFQ",
        "outputId": "084e479c-1462-48e9-d5d1-edcfb4b6758a"
      },
      "execution_count": 28,
      "outputs": [
        {
          "output_type": "stream",
          "name": "stdout",
          "text": [
            "x_train: torch.Size([32, 3, 32, 32]) type: torch.FloatTensor\n",
            "y_train: torch.Size([32]) type: torch.LongTensor\n"
          ]
        }
      ]
    },
    {
      "cell_type": "code",
      "source": [
        "# Data Check(2)\n",
        "pltsize = 1\n",
        "plt.figure(figsize = (10 * pltsize, pltsize))\n",
        "\n",
        "for i in range(10):\n",
        "  plt.subplot(1, 10, i + 1)\n",
        "  plt.axis('off')\n",
        "  plt.imshow(np.transpose(x_train[i], (1, 2, 0)))\n",
        "  plt.title('Class: ' + str(y_train[i].item()))"
      ],
      "metadata": {
        "colab": {
          "base_uri": "https://localhost:8080/",
          "height": 94
        },
        "id": "RVnAdW3YFk48",
        "outputId": "f86275ea-9076-452c-df35-224f59c506d3"
      },
      "execution_count": 29,
      "outputs": [
        {
          "output_type": "display_data",
          "data": {
            "text/plain": [
              "<Figure size 720x72 with 10 Axes>"
            ],
            "image/png": "[encoded data removed]"
          },
          "metadata": {
            "needs_background": "light"
          }
        }
      ]
    },
    {
      "cell_type": "code",
      "source": [
        "# ResNet Model Design\n",
        "\n",
        "## Basic Block 정의\n",
        "class BasicBlock(nn.Module):\n",
        "  def __init__(self, in_planes, planes, stride = 1):\n",
        "    super(BasicBlock, self).__init__()\n",
        "    self.conv1 = nn.Conv2d(in_planes, planes, kernel_size = 3, stride = stride, padding = 1, bias = False)\n",
        "    self.bn1 = nn.BatchNorm2d(planes)\n",
        "    self.conv2 = nn.Conv2d(planes, planes, kernel_size = 3, stride = 1, padding = 1, bias = False)\n",
        "    self.bn2 = nn.BatchNorm2d(planes)\n",
        "\n",
        "    self.shortcut = nn.Sequential()\n",
        "    if stride != 1 or in_planes != planes:\n",
        "      self.shortcut = nn.Sequential(\n",
        "          nn.Conv2d(in_planes, planes, kernel_size = 1, stride = stride, bias = False),\n",
        "          nn.BatchNorm2d(planes)\n",
        "          )\n",
        "  \n",
        "  def forward(self, x):\n",
        "    out = F.relu(self.bn1(self.conv1(x)))\n",
        "    out = self.bn2(self.conv2(out))\n",
        "    out += self.shortcut(x)\n",
        "    out = F.relu(out)\n",
        "    return out\n",
        "\n",
        "\n",
        "## ResNet 정의\n",
        "class ResNet(nn.Module):\n",
        "  def __init__(self, num_classes = 10):\n",
        "    super(ResNet, self).__init__()\n",
        "    self.in_planes = 16\n",
        "\n",
        "    self.conv1 = nn.Conv2d(3, 16, kernel_size = 3, stride = 1, padding = 1, bias = False)\n",
        "    self.bn1 = nn.BatchNorm2d(16)\n",
        "    self.layer1 = self._make_layer(16, 2, stride = 1)\n",
        "    self.layer2 = self._make_layer(32, 2, stride = 2)\n",
        "    self.layer3 = self._make_layer(64, 2, stride = 2)\n",
        "    self.linear = nn.Linear(64, num_classes)\n",
        "  \n",
        "  def _make_layer(self, planes, num_blocks, stride):\n",
        "    strides = [stride] + [1] * (num_blocks - 1)\n",
        "    layers = []\n",
        "    for stride in strides:\n",
        "      layers.append(BasicBlock(self.in_planes, planes, stride))\n",
        "      self.in_planes = planes\n",
        "    return nn.Sequential(*layers)\n",
        "\n",
        "  def forward(self, x):\n",
        "    out = F.relu(self.bn1(self.conv1(x)))\n",
        "    out = self.layer1(out)\n",
        "    out = self.layer2(out)\n",
        "    out = self.layer3(out)\n",
        "    out = F.avg_pool2d(out, 8)\n",
        "    out = out.view(out.size(0), -1)\n",
        "    out = self.linear(out) \n",
        "    return out"
      ],
      "metadata": {
        "id": "-O7sF_-KHTqR"
      },
      "execution_count": 30,
      "outputs": []
    },
    {
      "cell_type": "code",
      "source": [
        "# Objective Function, Optimizer, Learning Rate\n",
        "model = ResNet().to(DEVICE)\n",
        "learning_rate = 0.1\n",
        "\n",
        "criterion = nn.CrossEntropyLoss()\n",
        "optimizer = torch.optim.SGD(model.parameters(), lr = learning_rate, momentum = 0.9) #weight_decay = 0.0002\n",
        "\n",
        "def adjust_learning_rate(optimizer, Epoch):\n",
        "  lr = learning_rate\n",
        "  if Epoch >= 100:\n",
        "    lr /= 10\n",
        "  if Epoch >= 150:\n",
        "    lr /= 10\n",
        "  for param_group in optimizer.param_groups:\n",
        "    param_group['lr'] = lr"
      ],
      "metadata": {
        "id": "dejPk_gKBzXD"
      },
      "execution_count": 31,
      "outputs": []
    },
    {
      "cell_type": "code",
      "source": [
        "# def Train\n",
        "def train(model, train_loader, optimizer, log_interval):\n",
        "  model.train()\n",
        "  for batch_idx, (image, label) in enumerate(train_loader):\n",
        "    image = image.to(DEVICE)\n",
        "    label = label.to(DEVICE)\n",
        "    optimizer.zero_grad()\n",
        "    output = model(image)\n",
        "    loss = criterion(output, label)\n",
        "    loss.backward()\n",
        "    optimizer.step()\n",
        "\n",
        "    if batch_idx % log_interval == 0:\n",
        "      print(\"Train Epoch: {} [{}/{}({:.0f}%)]\\tTrain Loss: {:.6f}\".\n",
        "            format(Epoch, batch_idx * len(image), len(train_loader.dataset), 100. * batch_idx / len(train_loader), loss.item())) "
      ],
      "metadata": {
        "id": "Xi4Q233ILv-g"
      },
      "execution_count": 37,
      "outputs": []
    },
    {
      "cell_type": "code",
      "source": [
        "# def Evaluate\n",
        "def evaluate(model, test_loader):\n",
        "  model.eval()\n",
        "  test_loss = 0\n",
        "  correct = 0\n",
        "\n",
        "  with torch.no_grad():\n",
        "    for image, label in test_loader:\n",
        "      image = image.to(DEVICE)\n",
        "      label = label.to(DEVICE)\n",
        "      output = model(image)\n",
        "      test_loss += criterion(output, label).item()\n",
        "      prediction = output.max(1, keepdim = True)[1]\n",
        "      correct += prediction.eq(label.view_as(prediction)).sum().item()\n",
        "\n",
        "  test_loss /= len(test_loader.dataset)\n",
        "  test_accuracy = 100. * correct / len(test_loader.dataset)\n",
        "  return test_loss, test_accuracy"
      ],
      "metadata": {
        "id": "5b1b_JqHT3Yg"
      },
      "execution_count": 38,
      "outputs": []
    },
    {
      "cell_type": "code",
      "source": [
        "# Final\n",
        "for Epoch in range(1, EPOCHS + 1):\n",
        "  adjust_learning_rate(optimizer, Epoch)\n",
        "  train(model, train_loader, optimizer, log_interval = 200)\n",
        "  test_loss, test_accuracy = evaluate(model, test_loader)\n",
        "  print(\"\\n[EPOCH: {}], \\tTest Loss: {:.4f}, \\tTest Accuracy: {:.2f} % \\n\".\n",
        "        format(Epoch, test_loss, test_accuracy))"
      ],
      "metadata": {
        "colab": {
          "base_uri": "https://localhost:8080/"
        },
        "id": "W_O5_E2fV-2i",
        "outputId": "72ef0575-0306-4263-cd6d-9dd14ece1ad6"
      },
      "execution_count": 40,
      "outputs": [
        {
          "output_type": "stream",
          "name": "stdout",
          "text": [
            "Train Epoch: 1 [0/50000(0%)]\tTrain Loss: 1.220834\n",
            "Train Epoch: 1 [6400/50000(13%)]\tTrain Loss: 0.979014\n",
            "Train Epoch: 1 [12800/50000(26%)]\tTrain Loss: 0.863927\n",
            "Train Epoch: 1 [19200/50000(38%)]\tTrain Loss: 0.931146\n",
            "Train Epoch: 1 [25600/50000(51%)]\tTrain Loss: 0.978732\n",
            "Train Epoch: 1 [32000/50000(64%)]\tTrain Loss: 1.009676\n",
            "Train Epoch: 1 [38400/50000(77%)]\tTrain Loss: 0.757354\n",
            "Train Epoch: 1 [44800/50000(90%)]\tTrain Loss: 1.322927\n",
            "\n",
            "[EPOCH: 1], \tTest Loss: 0.0318, \tTest Accuracy: 65.78 % \n",
            "\n",
            "Train Epoch: 2 [0/50000(0%)]\tTrain Loss: 0.751214\n",
            "Train Epoch: 2 [6400/50000(13%)]\tTrain Loss: 1.126985\n",
            "Train Epoch: 2 [12800/50000(26%)]\tTrain Loss: 0.996427\n",
            "Train Epoch: 2 [19200/50000(38%)]\tTrain Loss: 0.892859\n",
            "Train Epoch: 2 [25600/50000(51%)]\tTrain Loss: 0.692556\n",
            "Train Epoch: 2 [32000/50000(64%)]\tTrain Loss: 0.552600\n",
            "Train Epoch: 2 [38400/50000(77%)]\tTrain Loss: 0.871385\n",
            "Train Epoch: 2 [44800/50000(90%)]\tTrain Loss: 0.487218\n",
            "\n",
            "[EPOCH: 2], \tTest Loss: 0.0294, \tTest Accuracy: 67.25 % \n",
            "\n",
            "Train Epoch: 3 [0/50000(0%)]\tTrain Loss: 0.850296\n",
            "Train Epoch: 3 [6400/50000(13%)]\tTrain Loss: 0.459955\n",
            "Train Epoch: 3 [12800/50000(26%)]\tTrain Loss: 1.204332\n",
            "Train Epoch: 3 [19200/50000(38%)]\tTrain Loss: 0.690380\n",
            "Train Epoch: 3 [25600/50000(51%)]\tTrain Loss: 1.114845\n",
            "Train Epoch: 3 [32000/50000(64%)]\tTrain Loss: 0.763963\n",
            "Train Epoch: 3 [38400/50000(77%)]\tTrain Loss: 0.427469\n",
            "Train Epoch: 3 [44800/50000(90%)]\tTrain Loss: 1.400429\n",
            "\n",
            "[EPOCH: 3], \tTest Loss: 0.0232, \tTest Accuracy: 74.22 % \n",
            "\n",
            "Train Epoch: 4 [0/50000(0%)]\tTrain Loss: 0.585868\n",
            "Train Epoch: 4 [6400/50000(13%)]\tTrain Loss: 0.984467\n",
            "Train Epoch: 4 [12800/50000(26%)]\tTrain Loss: 0.558405\n",
            "Train Epoch: 4 [19200/50000(38%)]\tTrain Loss: 0.793240\n",
            "Train Epoch: 4 [25600/50000(51%)]\tTrain Loss: 0.721538\n",
            "Train Epoch: 4 [32000/50000(64%)]\tTrain Loss: 0.905596\n",
            "Train Epoch: 4 [38400/50000(77%)]\tTrain Loss: 0.292654\n",
            "Train Epoch: 4 [44800/50000(90%)]\tTrain Loss: 0.562180\n",
            "\n",
            "[EPOCH: 4], \tTest Loss: 0.0241, \tTest Accuracy: 73.00 % \n",
            "\n",
            "Train Epoch: 5 [0/50000(0%)]\tTrain Loss: 0.639307\n",
            "Train Epoch: 5 [6400/50000(13%)]\tTrain Loss: 0.530972\n",
            "Train Epoch: 5 [12800/50000(26%)]\tTrain Loss: 0.520170\n",
            "Train Epoch: 5 [19200/50000(38%)]\tTrain Loss: 0.715635\n",
            "Train Epoch: 5 [25600/50000(51%)]\tTrain Loss: 0.405808\n",
            "Train Epoch: 5 [32000/50000(64%)]\tTrain Loss: 0.553536\n",
            "Train Epoch: 5 [38400/50000(77%)]\tTrain Loss: 0.544010\n",
            "Train Epoch: 5 [44800/50000(90%)]\tTrain Loss: 0.568185\n",
            "\n",
            "[EPOCH: 5], \tTest Loss: 0.0194, \tTest Accuracy: 78.74 % \n",
            "\n",
            "Train Epoch: 6 [0/50000(0%)]\tTrain Loss: 0.546717\n",
            "Train Epoch: 6 [6400/50000(13%)]\tTrain Loss: 0.457078\n",
            "Train Epoch: 6 [12800/50000(26%)]\tTrain Loss: 0.656752\n",
            "Train Epoch: 6 [19200/50000(38%)]\tTrain Loss: 0.990831\n",
            "Train Epoch: 6 [25600/50000(51%)]\tTrain Loss: 0.431760\n",
            "Train Epoch: 6 [32000/50000(64%)]\tTrain Loss: 0.628435\n",
            "Train Epoch: 6 [38400/50000(77%)]\tTrain Loss: 0.579680\n",
            "Train Epoch: 6 [44800/50000(90%)]\tTrain Loss: 0.555365\n",
            "\n",
            "[EPOCH: 6], \tTest Loss: 0.0178, \tTest Accuracy: 80.69 % \n",
            "\n",
            "Train Epoch: 7 [0/50000(0%)]\tTrain Loss: 0.840899\n",
            "Train Epoch: 7 [6400/50000(13%)]\tTrain Loss: 0.690576\n",
            "Train Epoch: 7 [12800/50000(26%)]\tTrain Loss: 0.549047\n",
            "Train Epoch: 7 [19200/50000(38%)]\tTrain Loss: 0.605079\n",
            "Train Epoch: 7 [25600/50000(51%)]\tTrain Loss: 0.378217\n",
            "Train Epoch: 7 [32000/50000(64%)]\tTrain Loss: 0.505597\n",
            "Train Epoch: 7 [38400/50000(77%)]\tTrain Loss: 0.504348\n",
            "Train Epoch: 7 [44800/50000(90%)]\tTrain Loss: 0.773035\n",
            "\n",
            "[EPOCH: 7], \tTest Loss: 0.0168, \tTest Accuracy: 81.63 % \n",
            "\n",
            "Train Epoch: 8 [0/50000(0%)]\tTrain Loss: 0.864547\n",
            "Train Epoch: 8 [6400/50000(13%)]\tTrain Loss: 0.380607\n",
            "Train Epoch: 8 [12800/50000(26%)]\tTrain Loss: 0.394137\n",
            "Train Epoch: 8 [19200/50000(38%)]\tTrain Loss: 0.443029\n",
            "Train Epoch: 8 [25600/50000(51%)]\tTrain Loss: 0.573391\n",
            "Train Epoch: 8 [32000/50000(64%)]\tTrain Loss: 0.568203\n",
            "Train Epoch: 8 [38400/50000(77%)]\tTrain Loss: 0.507615\n",
            "Train Epoch: 8 [44800/50000(90%)]\tTrain Loss: 0.654237\n",
            "\n",
            "[EPOCH: 8], \tTest Loss: 0.0176, \tTest Accuracy: 80.24 % \n",
            "\n",
            "Train Epoch: 9 [0/50000(0%)]\tTrain Loss: 0.284943\n",
            "Train Epoch: 9 [6400/50000(13%)]\tTrain Loss: 0.516812\n",
            "Train Epoch: 9 [12800/50000(26%)]\tTrain Loss: 0.563612\n",
            "Train Epoch: 9 [19200/50000(38%)]\tTrain Loss: 0.352952\n",
            "Train Epoch: 9 [25600/50000(51%)]\tTrain Loss: 0.427461\n",
            "Train Epoch: 9 [32000/50000(64%)]\tTrain Loss: 0.640122\n",
            "Train Epoch: 9 [38400/50000(77%)]\tTrain Loss: 0.849325\n",
            "Train Epoch: 9 [44800/50000(90%)]\tTrain Loss: 0.620202\n",
            "\n",
            "[EPOCH: 9], \tTest Loss: 0.0168, \tTest Accuracy: 82.66 % \n",
            "\n",
            "Train Epoch: 10 [0/50000(0%)]\tTrain Loss: 0.769141\n",
            "Train Epoch: 10 [6400/50000(13%)]\tTrain Loss: 0.433920\n",
            "Train Epoch: 10 [12800/50000(26%)]\tTrain Loss: 0.859681\n",
            "Train Epoch: 10 [19200/50000(38%)]\tTrain Loss: 0.433078\n",
            "Train Epoch: 10 [25600/50000(51%)]\tTrain Loss: 0.651040\n",
            "Train Epoch: 10 [32000/50000(64%)]\tTrain Loss: 0.447792\n",
            "Train Epoch: 10 [38400/50000(77%)]\tTrain Loss: 0.491430\n",
            "Train Epoch: 10 [44800/50000(90%)]\tTrain Loss: 0.570589\n",
            "\n",
            "[EPOCH: 10], \tTest Loss: 0.0171, \tTest Accuracy: 81.85 % \n",
            "\n"
          ]
        }
      ]
    }
  ]
}