{
  "nbformat": 4,
  "nbformat_minor": 0,
  "metadata": {
    "colab": {
      "provenance": [],
      "authorship_tag": "ABX9TyMITmsZiz+3WiDA2afktYsY",
      "include_colab_link": true
    },
    "kernelspec": {
      "name": "python3",
      "display_name": "Python 3"
    },
    "language_info": {
      "name": "python"
    }
  },
  "cells": [
    {
      "cell_type": "markdown",
      "metadata": {
        "id": "view-in-github",
        "colab_type": "text"
      },
      "source": [
        "<a href=\"https://colab.research.google.com/github/HaeRin-OortCloud/AI-Lab/blob/main/CNN_CIFAR10.ipynb\" target=\"_parent\"><img src=\"https://colab.research.google.com/assets/colab-badge.svg\" alt=\"Open In Colab\"/></a>"
      ]
    },
    {
      "cell_type": "code",
      "execution_count": null,
      "metadata": {
        "id": "VNh_SjDG1pYh"
      },
      "outputs": [],
      "source": [
        "# Model Import\n",
        "import numpy as np\n",
        "import matplotlib.pyplot as plt\n",
        "import torch\n",
        "import torch.nn as nn\n",
        "import torch.nn.functional as F\n",
        "from torchvision import transforms, datasets "
      ]
    },
    {
      "cell_type": "code",
      "source": [
        "# Device Check\n",
        "if torch.cuda.is_available():\n",
        "  DEVICE = torch.device('cuda')\n",
        "else:\n",
        "  DEVICE = torch.device('cpu')\n",
        "print('Using PyTorch version:', torch.__version__, ' Device:', DEVICE)\n",
        "\n",
        "BATCH_SIZE = 32\n",
        "EPOCHS = 10"
      ],
      "metadata": {
        "colab": {
          "base_uri": "https://localhost:8080/"
        },
        "id": "q9Nu9opm9Req",
        "outputId": "90169992-77ac-423a-a1b4-18d59d2d9250"
      },
      "execution_count": null,
      "outputs": [
        {
          "output_type": "stream",
          "name": "stdout",
          "text": [
            "Using PyTorch version: 1.13.0+cu116  Device: cpu\n"
          ]
        }
      ]
    },
    {
      "cell_type": "code",
      "source": [
        "# CHIFAR10 Data Download\n",
        "## Data Augmentation\n",
        "\n",
        "train_dataset = datasets.CIFAR10(root = \"../data/CIFAR_10\",\n",
        "                                 train = True,\n",
        "                                 download = True,\n",
        "                                 transform = transforms.Compose([\n",
        "                                     transforms.RandomHorizontalFlip(),\n",
        "                                     transforms.ToTensor(),\n",
        "                                     transforms.Normalize((0.5, 0.5, 0.5),\n",
        "                                                          (0.5, 0.5, 0.5))]))\n",
        "\n",
        "test_dataset = datasets.CIFAR10(root = \"../data/CIFAR_10\",\n",
        "                                train = False,\n",
        "                                transform = transforms.Compose([\n",
        "                                    transforms.RandomHorizontalFlip(),\n",
        "                                    transforms.ToTensor(),\n",
        "                                    transforms.Normalize((0.5, 0.5, 0.5),\n",
        "                                                         (0.5, 0.5, 0.5))]))\n",
        "\n",
        "\n",
        "train_loader = torch.utils.data.DataLoader(dataset = train_dataset,\n",
        "                                           batch_size = BATCH_SIZE,\n",
        "                                           shuffle = True)\n",
        "\n",
        "test_loader = torch.utils.data.DataLoader(dataset = test_dataset,\n",
        "                                          batch_size = BATCH_SIZE,\n",
        "                                          shuffle = False)"
      ],
      "metadata": {
        "colab": {
          "base_uri": "https://localhost:8080/"
        },
        "id": "7c8k25Ou9l-q",
        "outputId": "a85a319f-d176-4830-ea28-8be0fb2917e5"
      },
      "execution_count": null,
      "outputs": [
        {
          "output_type": "stream",
          "name": "stdout",
          "text": [
            "Files already downloaded and verified\n"
          ]
        }
      ]
    },
    {
      "cell_type": "code",
      "source": [
        "# Data Check(1)\n",
        "for (x_train, y_train) in train_loader:\n",
        "  print('x_train:', x_train.size(), 'type:', x_train.type())\n",
        "  print('y_train:', y_train.size(), 'type:', y_train.type())\n",
        "  break"
      ],
      "metadata": {
        "colab": {
          "base_uri": "https://localhost:8080/"
        },
        "id": "dsdV7XFnAVh1",
        "outputId": "8e66fdcb-5f7a-486b-fd9e-5a9eb30894f2"
      },
      "execution_count": null,
      "outputs": [
        {
          "output_type": "stream",
          "name": "stdout",
          "text": [
            "x_train: torch.Size([32, 3, 32, 32]) type: torch.FloatTensor\n",
            "y_train: torch.Size([32]) type: torch.LongTensor\n"
          ]
        }
      ]
    },
    {
      "cell_type": "code",
      "source": [
        "# Data Check(2)\n",
        "pltsize = 1\n",
        "plt.figure(figsize=(10 * pltsize, pltsize))\n",
        "\n",
        "for i in range(10):\n",
        "  plt.subplot(1, 10, i + 1)\n",
        "  plt.axis('off')\n",
        "  plt.imshow(np.transpose(x_train[i], (1, 2, 0)))\n",
        "  plt.title('Class: ' + str(y_train[i].item()))"
      ],
      "metadata": {
        "colab": {
          "base_uri": "https://localhost:8080/",
          "height": 276
        },
        "id": "30QR632KA1bl",
        "outputId": "a03f44ba-b771-42cf-d5aa-3ea63f14ec64"
      },
      "execution_count": null,
      "outputs": [
        {
          "output_type": "stream",
          "name": "stderr",
          "text": [
            "WARNING:matplotlib.image:Clipping input data to the valid range for imshow with RGB data ([0..1] for floats or [0..255] for integers).\n",
            "WARNING:matplotlib.image:Clipping input data to the valid range for imshow with RGB data ([0..1] for floats or [0..255] for integers).\n",
            "WARNING:matplotlib.image:Clipping input data to the valid range for imshow with RGB data ([0..1] for floats or [0..255] for integers).\n",
            "WARNING:matplotlib.image:Clipping input data to the valid range for imshow with RGB data ([0..1] for floats or [0..255] for integers).\n",
            "WARNING:matplotlib.image:Clipping input data to the valid range for imshow with RGB data ([0..1] for floats or [0..255] for integers).\n",
            "WARNING:matplotlib.image:Clipping input data to the valid range for imshow with RGB data ([0..1] for floats or [0..255] for integers).\n",
            "WARNING:matplotlib.image:Clipping input data to the valid range for imshow with RGB data ([0..1] for floats or [0..255] for integers).\n",
            "WARNING:matplotlib.image:Clipping input data to the valid range for imshow with RGB data ([0..1] for floats or [0..255] for integers).\n",
            "WARNING:matplotlib.image:Clipping input data to the valid range for imshow with RGB data ([0..1] for floats or [0..255] for integers).\n",
            "WARNING:matplotlib.image:Clipping input data to the valid range for imshow with RGB data ([0..1] for floats or [0..255] for integers).\n"
          ]
        },
        {
          "output_type": "display_data",
          "data": {
            "text/plain": [
              "<Figure size 720x72 with 10 Axes>"
            ],
            "image/png": "[encoded data removed]"
          },
          "metadata": {
            "needs_background": "light"
          }
        }
      ]
    },
    {
      "cell_type": "code",
      "source": [
        "# CNN Model Design\n",
        "class CNN(nn.Module):\n",
        "  def __init__(self):\n",
        "    super(CNN, self).__init__()\n",
        "    self.conv1 = nn.Conv2d(\n",
        "        in_channels = 3,\n",
        "        out_channels = 8,\n",
        "        kernel_size = 3,\n",
        "        padding = 1)\n",
        "    self.conv2 = nn.Conv2d(\n",
        "        in_channels = 8,\n",
        "        out_channels = 16,\n",
        "        kernel_size = 3,\n",
        "        padding = 1)\n",
        "    self.pool = nn.MaxPool2d(\n",
        "        kernel_size = 2,\n",
        "        stride = 2)\n",
        "    self.fc1 = nn.Linear(8 * 8 * 16, 64)\n",
        "    self.fc2 = nn.Linear(64, 32)\n",
        "    self.fc3 = nn.Linear(32, 10)\n",
        "\n",
        "  def forward(self, x):\n",
        "    x = self.conv1(x)\n",
        "    x = F.relu(x)\n",
        "    x = self.pool(x)\n",
        "    x = self.conv2(x)\n",
        "    x = F.relu(x)\n",
        "    x = self.pool(x)\n",
        "\n",
        "    x = x.view(-1, 8 * 8 * 16)\n",
        "    x = self.fc1(x)\n",
        "    x = F.relu(x)\n",
        "    x = self.fc2(x)\n",
        "    x = F.relu(x)\n",
        "    x = self.fc3(x)\n",
        "    x = F.log_softmax(x)\n",
        "    return x"
      ],
      "metadata": {
        "id": "t7LlxwG2Nsb3"
      },
      "execution_count": null,
      "outputs": []
    },
    {
      "cell_type": "code",
      "source": [
        "# Optimizer, Objective Function\n",
        "model = CNN().to(DEVICE)\n",
        "optimizer = torch.optim.Adam(model.parameters(), lr = 0.001)\n",
        "criterion  = nn.CrossEntropyLoss()\n",
        "print(model)"
      ],
      "metadata": {
        "colab": {
          "base_uri": "https://localhost:8080/"
        },
        "id": "dqJNSghVdIVh",
        "outputId": "0669cc04-c194-4545-84e9-f0c135d6a9a1"
      },
      "execution_count": null,
      "outputs": [
        {
          "output_type": "stream",
          "name": "stdout",
          "text": [
            "CNN(\n",
            "  (conv1): Conv2d(3, 8, kernel_size=(3, 3), stride=(1, 1), padding=(1, 1))\n",
            "  (conv2): Conv2d(8, 16, kernel_size=(3, 3), stride=(1, 1), padding=(1, 1))\n",
            "  (pool): MaxPool2d(kernel_size=2, stride=2, padding=0, dilation=1, ceil_mode=False)\n",
            "  (fc1): Linear(in_features=1024, out_features=64, bias=True)\n",
            "  (fc2): Linear(in_features=64, out_features=32, bias=True)\n",
            "  (fc3): Linear(in_features=32, out_features=10, bias=True)\n",
            ")\n"
          ]
        }
      ]
    },
    {
      "cell_type": "code",
      "source": [
        "# def Train + Performance Check\n",
        "def train(model, train_loader, optimizer, log_interval):\n",
        "  model.train()\n",
        "  for batch_idx, (image, label) in enumerate(train_loader):\n",
        "    image = image.to(DEVICE)\n",
        "    label = label.to(DEVICE)\n",
        "    optimizer.zero_grad()\n",
        "    output = model(image)\n",
        "    loss = criterion(output, label)\n",
        "    loss.backward()\n",
        "    optimizer.step()\n",
        "\n",
        "    if batch_idx % log_interval == 0:\n",
        "      print(\"Train Epoch: {} [{}/{}({:.0f}%)]\\tTrain Loss: {:.6f}\".format(\n",
        "          Epoch, batch_idx * len(image), \n",
        "          len(train_loader.dataset), 100. * batch_idx / len(train_loader),\n",
        "          loss.item()))"
      ],
      "metadata": {
        "id": "ueXie57bdcV0"
      },
      "execution_count": null,
      "outputs": []
    },
    {
      "cell_type": "code",
      "source": [
        "# def Evaluate + Performance Check\n",
        "def evaluate(model, test_loader):\n",
        "  model.eval()\n",
        "  test_loss = 0\n",
        "  correct = 0\n",
        "\n",
        "  with torch.no_grad():\n",
        "    for image, label in test_loader:\n",
        "      image = image.to(DEVICE)\n",
        "      label = label.to(DEVICE)\n",
        "      output = model(image)\n",
        "      test_loss += criterion(output, label).item()\n",
        "      prediction = output.max(1, keepdim = True)[1]\n",
        "      correct += prediction.eq(label.view_as(prediction)).sum().item()\n",
        "\n",
        "  test_loss /= len(test_loader.dataset)\n",
        "  test_accuracy = 100. * correct / len(test_loader.dataset)\n",
        "  return test_loss, test_accuracy"
      ],
      "metadata": {
        "id": "toogaN1EgnnQ"
      },
      "execution_count": null,
      "outputs": []
    },
    {
      "cell_type": "code",
      "source": [
        "# Final\n",
        "for Epoch in range(1, EPOCHS + 1):\n",
        "  train(model, train_loader, optimizer, log_interval = 200)\n",
        "  test_loss, test_accuracy = evaluate(model, test_loader)\n",
        "  print(\"\\n[EPOCH: {}], \\tTest Loss: {:.4f}, \\tTest Accuracy: {:.2f} % \\n\".\n",
        "        format(Epoch, test_loss, test_accuracy))"
      ],
      "metadata": {
        "colab": {
          "base_uri": "https://localhost:8080/"
        },
        "id": "JlVTe36vh2m5",
        "outputId": "dacadf84-2fe9-45c0-e9ad-2fb585be66a8"
      },
      "execution_count": null,
      "outputs": [
        {
          "output_type": "stream",
          "name": "stderr",
          "text": [
            "<ipython-input-56-aff66eb2572d>:36: UserWarning: Implicit dimension choice for log_softmax has been deprecated. Change the call to include dim=X as an argument.\n",
            "  x = F.log_softmax(x)\n"
          ]
        },
        {
          "output_type": "stream",
          "name": "stdout",
          "text": [
            "Train Epoch: 1 [0/50000(0%)]\tTrain Loss: 2.296898\n",
            "Train Epoch: 1 [6400/50000(13%)]\tTrain Loss: 1.862311\n",
            "Train Epoch: 1 [12800/50000(26%)]\tTrain Loss: 1.625151\n",
            "Train Epoch: 1 [19200/50000(38%)]\tTrain Loss: 1.365252\n",
            "Train Epoch: 1 [25600/50000(51%)]\tTrain Loss: 1.588125\n",
            "Train Epoch: 1 [32000/50000(64%)]\tTrain Loss: 1.559694\n",
            "Train Epoch: 1 [38400/50000(77%)]\tTrain Loss: 1.533729\n",
            "Train Epoch: 1 [44800/50000(90%)]\tTrain Loss: 0.980413\n",
            "\n",
            "[EPOCH: 1], \tTest Loss: 0.0413, \tTest Accuracy: 51.94 % \n",
            "\n",
            "Train Epoch: 2 [0/50000(0%)]\tTrain Loss: 1.133887\n",
            "Train Epoch: 2 [6400/50000(13%)]\tTrain Loss: 1.297224\n",
            "Train Epoch: 2 [12800/50000(26%)]\tTrain Loss: 1.296448\n",
            "Train Epoch: 2 [19200/50000(38%)]\tTrain Loss: 1.673749\n",
            "Train Epoch: 2 [25600/50000(51%)]\tTrain Loss: 1.562209\n",
            "Train Epoch: 2 [32000/50000(64%)]\tTrain Loss: 1.021826\n",
            "Train Epoch: 2 [38400/50000(77%)]\tTrain Loss: 1.036383\n",
            "Train Epoch: 2 [44800/50000(90%)]\tTrain Loss: 1.020132\n",
            "\n",
            "[EPOCH: 2], \tTest Loss: 0.0365, \tTest Accuracy: 58.59 % \n",
            "\n",
            "Train Epoch: 3 [0/50000(0%)]\tTrain Loss: 1.315031\n",
            "Train Epoch: 3 [6400/50000(13%)]\tTrain Loss: 1.523198\n",
            "Train Epoch: 3 [12800/50000(26%)]\tTrain Loss: 0.877130\n",
            "Train Epoch: 3 [19200/50000(38%)]\tTrain Loss: 1.262080\n",
            "Train Epoch: 3 [25600/50000(51%)]\tTrain Loss: 1.062525\n",
            "Train Epoch: 3 [32000/50000(64%)]\tTrain Loss: 1.054325\n",
            "Train Epoch: 3 [38400/50000(77%)]\tTrain Loss: 0.961117\n",
            "Train Epoch: 3 [44800/50000(90%)]\tTrain Loss: 1.094855\n",
            "\n",
            "[EPOCH: 3], \tTest Loss: 0.0342, \tTest Accuracy: 61.13 % \n",
            "\n",
            "Train Epoch: 4 [0/50000(0%)]\tTrain Loss: 1.062323\n",
            "Train Epoch: 4 [6400/50000(13%)]\tTrain Loss: 1.048753\n",
            "Train Epoch: 4 [12800/50000(26%)]\tTrain Loss: 1.242442\n",
            "Train Epoch: 4 [19200/50000(38%)]\tTrain Loss: 0.949775\n",
            "Train Epoch: 4 [25600/50000(51%)]\tTrain Loss: 1.046072\n",
            "Train Epoch: 4 [32000/50000(64%)]\tTrain Loss: 1.249245\n",
            "Train Epoch: 4 [38400/50000(77%)]\tTrain Loss: 0.903749\n",
            "Train Epoch: 4 [44800/50000(90%)]\tTrain Loss: 1.117040\n",
            "\n",
            "[EPOCH: 4], \tTest Loss: 0.0332, \tTest Accuracy: 62.65 % \n",
            "\n",
            "Train Epoch: 5 [0/50000(0%)]\tTrain Loss: 0.988640\n",
            "Train Epoch: 5 [6400/50000(13%)]\tTrain Loss: 0.913326\n",
            "Train Epoch: 5 [12800/50000(26%)]\tTrain Loss: 0.815412\n",
            "Train Epoch: 5 [19200/50000(38%)]\tTrain Loss: 1.507203\n",
            "Train Epoch: 5 [25600/50000(51%)]\tTrain Loss: 1.537953\n",
            "Train Epoch: 5 [32000/50000(64%)]\tTrain Loss: 0.814453\n",
            "Train Epoch: 5 [38400/50000(77%)]\tTrain Loss: 1.037382\n",
            "Train Epoch: 5 [44800/50000(90%)]\tTrain Loss: 0.733354\n",
            "\n",
            "[EPOCH: 5], \tTest Loss: 0.0326, \tTest Accuracy: 63.08 % \n",
            "\n",
            "Train Epoch: 6 [0/50000(0%)]\tTrain Loss: 1.361052\n",
            "Train Epoch: 6 [6400/50000(13%)]\tTrain Loss: 1.097557\n",
            "Train Epoch: 6 [12800/50000(26%)]\tTrain Loss: 0.871107\n",
            "Train Epoch: 6 [19200/50000(38%)]\tTrain Loss: 1.216046\n",
            "Train Epoch: 6 [25600/50000(51%)]\tTrain Loss: 0.954497\n",
            "Train Epoch: 6 [32000/50000(64%)]\tTrain Loss: 0.898668\n",
            "Train Epoch: 6 [38400/50000(77%)]\tTrain Loss: 0.999277\n",
            "Train Epoch: 6 [44800/50000(90%)]\tTrain Loss: 0.719150\n",
            "\n",
            "[EPOCH: 6], \tTest Loss: 0.0315, \tTest Accuracy: 64.83 % \n",
            "\n",
            "Train Epoch: 7 [0/50000(0%)]\tTrain Loss: 0.517133\n",
            "Train Epoch: 7 [6400/50000(13%)]\tTrain Loss: 0.835488\n",
            "Train Epoch: 7 [12800/50000(26%)]\tTrain Loss: 0.704238\n",
            "Train Epoch: 7 [19200/50000(38%)]\tTrain Loss: 0.857057\n",
            "Train Epoch: 7 [25600/50000(51%)]\tTrain Loss: 1.045222\n",
            "Train Epoch: 7 [32000/50000(64%)]\tTrain Loss: 0.659786\n",
            "Train Epoch: 7 [38400/50000(77%)]\tTrain Loss: 1.244213\n",
            "Train Epoch: 7 [44800/50000(90%)]\tTrain Loss: 0.946451\n",
            "\n",
            "[EPOCH: 7], \tTest Loss: 0.0311, \tTest Accuracy: 64.69 % \n",
            "\n",
            "Train Epoch: 8 [0/50000(0%)]\tTrain Loss: 0.868372\n",
            "Train Epoch: 8 [6400/50000(13%)]\tTrain Loss: 0.708172\n",
            "Train Epoch: 8 [12800/50000(26%)]\tTrain Loss: 1.017902\n",
            "Train Epoch: 8 [19200/50000(38%)]\tTrain Loss: 0.608864\n",
            "Train Epoch: 8 [25600/50000(51%)]\tTrain Loss: 0.944046\n",
            "Train Epoch: 8 [32000/50000(64%)]\tTrain Loss: 0.926755\n",
            "Train Epoch: 8 [38400/50000(77%)]\tTrain Loss: 0.929193\n",
            "Train Epoch: 8 [44800/50000(90%)]\tTrain Loss: 1.046452\n",
            "\n",
            "[EPOCH: 8], \tTest Loss: 0.0307, \tTest Accuracy: 65.63 % \n",
            "\n",
            "Train Epoch: 9 [0/50000(0%)]\tTrain Loss: 1.109206\n",
            "Train Epoch: 9 [6400/50000(13%)]\tTrain Loss: 1.326652\n",
            "Train Epoch: 9 [12800/50000(26%)]\tTrain Loss: 0.901162\n",
            "Train Epoch: 9 [19200/50000(38%)]\tTrain Loss: 0.844906\n",
            "Train Epoch: 9 [25600/50000(51%)]\tTrain Loss: 0.790349\n",
            "Train Epoch: 9 [32000/50000(64%)]\tTrain Loss: 0.804803\n",
            "Train Epoch: 9 [38400/50000(77%)]\tTrain Loss: 0.777077\n",
            "Train Epoch: 9 [44800/50000(90%)]\tTrain Loss: 1.104631\n",
            "\n",
            "[EPOCH: 9], \tTest Loss: 0.0300, \tTest Accuracy: 66.17 % \n",
            "\n",
            "Train Epoch: 10 [0/50000(0%)]\tTrain Loss: 0.906820\n",
            "Train Epoch: 10 [6400/50000(13%)]\tTrain Loss: 0.712966\n",
            "Train Epoch: 10 [12800/50000(26%)]\tTrain Loss: 0.997439\n",
            "Train Epoch: 10 [19200/50000(38%)]\tTrain Loss: 0.550421\n",
            "Train Epoch: 10 [25600/50000(51%)]\tTrain Loss: 0.795033\n",
            "Train Epoch: 10 [32000/50000(64%)]\tTrain Loss: 1.132476\n",
            "Train Epoch: 10 [38400/50000(77%)]\tTrain Loss: 1.088450\n",
            "Train Epoch: 10 [44800/50000(90%)]\tTrain Loss: 0.778179\n",
            "\n",
            "[EPOCH: 10], \tTest Loss: 0.0301, \tTest Accuracy: 65.70 % \n",
            "\n"
          ]
        }
      ]
    }
  ]
}