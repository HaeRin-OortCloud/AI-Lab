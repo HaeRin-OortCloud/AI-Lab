{
  "nbformat": 4,
  "nbformat_minor": 0,
  "metadata": {
    "colab": {
      "provenance": [],
      "authorship_tag": "ABX9TyNmyNStE6C12w/hHjDnz6O0",
      "include_colab_link": true
    },
    "kernelspec": {
      "name": "python3",
      "display_name": "Python 3"
    },
    "language_info": {
      "name": "python"
    }
  },
  "cells": [
    {
      "cell_type": "markdown",
      "metadata": {
        "id": "view-in-github",
        "colab_type": "text"
      },
      "source": [
        "<a href=\"https://colab.research.google.com/github/HaeRin-OortCloud/AI-Lab/blob/main/CNN_CIFAR10.ipynb\" target=\"_parent\"><img src=\"https://colab.research.google.com/assets/colab-badge.svg\" alt=\"Open In Colab\"/></a>"
      ]
    },
    {
      "cell_type": "code",
      "execution_count": 13,
      "metadata": {
        "id": "VNh_SjDG1pYh"
      },
      "outputs": [],
      "source": [
        "# Model Import\n",
        "import numpy as np\n",
        "import matplotlib.pyplot as plt\n",
        "import torch\n",
        "import torch.nn as nn\n",
        "import torch.nn.functional as F\n",
        "from torchvision import transforms, datasets "
      ]
    },
    {
      "cell_type": "code",
      "source": [
        "# Device Check\n",
        "if torch.cuda.is_available():\n",
        "  DEVICE = torch.device('cuda')\n",
        "else:\n",
        "  DEVICE = torch.device('cpu')\n",
        "print('Using PyTorch version:', torch.__version__, ' Device:', DEVICE)\n",
        "\n",
        "BATCH_SIZE = 32\n",
        "EPOCHS = 10"
      ],
      "metadata": {
        "colab": {
          "base_uri": "https://localhost:8080/"
        },
        "id": "q9Nu9opm9Req",
        "outputId": "6c48bd2d-e146-4ad8-93e7-d702b6d0f608"
      },
      "execution_count": 14,
      "outputs": [
        {
          "output_type": "stream",
          "name": "stdout",
          "text": [
            "Using PyTorch version: 1.13.0+cu116  Device: cpu\n"
          ]
        }
      ]
    },
    {
      "cell_type": "code",
      "source": [
        "# CHIFAR10 Data Download\n",
        "## Data Augmentation\n",
        "\n",
        "train_dataset = datasets.CIFAR10(root = \"../data/CIFAR_10\",\n",
        "                                 train = True,\n",
        "                                 download = True,\n",
        "                                 transform = transforms.Compose([\n",
        "                                     transforms.RandomHorizontalFlip(),\n",
        "                                     transforms.ToTensor()]))\n",
        "\n",
        "\n",
        "test_dataset = datasets.CIFAR10(root = \"../data/CIFAR_10\",\n",
        "                                train = False,\n",
        "                                transform = transforms.Compose([\n",
        "                                    transforms.RandomHorizontalFlip(),\n",
        "                                    transforms.ToTensor()]))\n",
        "\n",
        "\n",
        "\n",
        "train_loader = torch.utils.data.DataLoader(dataset = train_dataset,\n",
        "                                           batch_size = BATCH_SIZE,\n",
        "                                           shuffle = True)\n",
        "\n",
        "test_loader = torch.utils.data.DataLoader(dataset = test_dataset,\n",
        "                                          batch_size = BATCH_SIZE,\n",
        "                                          shuffle = False)"
      ],
      "metadata": {
        "colab": {
          "base_uri": "https://localhost:8080/"
        },
        "id": "7c8k25Ou9l-q",
        "outputId": "3f5fe5eb-05d2-4c71-bcab-38802c05ed72"
      },
      "execution_count": 16,
      "outputs": [
        {
          "output_type": "stream",
          "name": "stdout",
          "text": [
            "Files already downloaded and verified\n"
          ]
        }
      ]
    },
    {
      "cell_type": "code",
      "source": [
        "# Data Check(1)\n",
        "for (x_train, y_train) in train_loader:\n",
        "  print('x_train:', x_train.size(), 'type:', x_train.type())\n",
        "  print('y_train:', y_train.size(), 'type:', y_train.type())\n",
        "  break"
      ],
      "metadata": {
        "colab": {
          "base_uri": "https://localhost:8080/"
        },
        "id": "dsdV7XFnAVh1",
        "outputId": "1b20f9f4-63c3-4b63-e8cd-bc830fc46c1b"
      },
      "execution_count": 17,
      "outputs": [
        {
          "output_type": "stream",
          "name": "stdout",
          "text": [
            "x_train: torch.Size([32, 3, 32, 32]) type: torch.FloatTensor\n",
            "y_train: torch.Size([32]) type: torch.LongTensor\n"
          ]
        }
      ]
    },
    {
      "cell_type": "code",
      "source": [
        "# Data Check(2)\n",
        "pltsize = 1\n",
        "plt.figure(figsize=(10 * pltsize, pltsize))\n",
        "\n",
        "for i in range(10):\n",
        "  plt.subplot(1, 10, i + 1)\n",
        "  plt.axis('off')\n",
        "  plt.imshow(np.transpose(x_train[i], (1, 2, 0)))\n",
        "  plt.title('Class: ' + str(y_train[i].item()))"
      ],
      "metadata": {
        "colab": {
          "base_uri": "https://localhost:8080/",
          "height": 94
        },
        "id": "30QR632KA1bl",
        "outputId": "f2eac245-fa25-42cf-d39d-30f79e9aa8ee"
      },
      "execution_count": 18,
      "outputs": [
        {
          "output_type": "display_data",
          "data": {
            "text/plain": [
              "<Figure size 720x72 with 10 Axes>"
            ],
            "image/png": "[encoded data removed]"
          },
          "metadata": {
            "needs_background": "light"
          }
        }
      ]
    },
    {
      "cell_type": "code",
      "source": [
        "# CNN Model Design\n",
        "class CNN(nn.Module):\n",
        "  def __init__(self):\n",
        "    super(CNN, self).__init__()\n",
        "    self.conv1 = nn.Conv2d(\n",
        "        in_channels = 3,\n",
        "        out_channels = 8,\n",
        "        kernel_size = 3,\n",
        "        padding = 1)\n",
        "    self.conv2 = nn.Conv2d(\n",
        "        in_channels = 8,\n",
        "        out_channels = 16,\n",
        "        kernel_size = 3,\n",
        "        padding = 1)\n",
        "    self.pool = nn.MaxPool2d(\n",
        "        kernel_size = 2,\n",
        "        stride = 2)\n",
        "    self.fc1 = nn.Linear(8 * 8 * 16, 64)\n",
        "    self.fc2 = nn.Linear(64, 32)\n",
        "    self.fc3 = nn.Linear(32, 10)\n",
        "\n",
        "  def forward(self, x):\n",
        "    x = self.conv1(x)\n",
        "    x = F.relu(x)\n",
        "    x = self.pool(x)\n",
        "    x = self.conv2(x)\n",
        "    x = F.relu(x)\n",
        "    x = self.pool(x)\n",
        "\n",
        "    x = x.view(-1, 8 * 8 * 16)\n",
        "    x = self.fc1(x)\n",
        "    x = F.relu(x)\n",
        "    x = self.fc2(x)\n",
        "    x = F.relu(x)\n",
        "    x = self.fc3(x)\n",
        "    x = F.log_softmax(x)\n",
        "    return x"
      ],
      "metadata": {
        "id": "t7LlxwG2Nsb3"
      },
      "execution_count": 19,
      "outputs": []
    },
    {
      "cell_type": "code",
      "source": [
        "# Optimizer, Objective Function\n",
        "model = CNN().to(DEVICE)\n",
        "optimizer = torch.optim.Adam(model.parameters(), lr = 0.001)\n",
        "criterion  = nn.CrossEntropyLoss()\n",
        "print(model)"
      ],
      "metadata": {
        "colab": {
          "base_uri": "https://localhost:8080/"
        },
        "id": "dqJNSghVdIVh",
        "outputId": "be76511b-10c6-4687-bbcf-5104ae14057e"
      },
      "execution_count": 20,
      "outputs": [
        {
          "output_type": "stream",
          "name": "stdout",
          "text": [
            "CNN(\n",
            "  (conv1): Conv2d(3, 8, kernel_size=(3, 3), stride=(1, 1), padding=(1, 1))\n",
            "  (conv2): Conv2d(8, 16, kernel_size=(3, 3), stride=(1, 1), padding=(1, 1))\n",
            "  (pool): MaxPool2d(kernel_size=2, stride=2, padding=0, dilation=1, ceil_mode=False)\n",
            "  (fc1): Linear(in_features=1024, out_features=64, bias=True)\n",
            "  (fc2): Linear(in_features=64, out_features=32, bias=True)\n",
            "  (fc3): Linear(in_features=32, out_features=10, bias=True)\n",
            ")\n"
          ]
        }
      ]
    },
    {
      "cell_type": "code",
      "source": [
        "# def Train + Performance Check\n",
        "def train(model, train_loader, optimizer, log_interval):\n",
        "  model.train()\n",
        "  for batch_idx, (image, label) in enumerate(train_loader):\n",
        "    image = image.to(DEVICE)\n",
        "    label = label.to(DEVICE)\n",
        "    optimizer.zero_grad()\n",
        "    output = model(image)\n",
        "    loss = criterion(output, label)\n",
        "    loss.backward()\n",
        "    optimizer.step()\n",
        "\n",
        "    if batch_idx % log_interval == 0:\n",
        "      print(\"Train Epoch: {} [{}/{}({:.0f}%)]\\tTrain Loss: {:.6f}\".format(\n",
        "          Epoch, batch_idx * len(image), \n",
        "          len(train_loader.dataset), 100. * batch_idx / len(train_loader),\n",
        "          loss.item()))"
      ],
      "metadata": {
        "id": "ueXie57bdcV0"
      },
      "execution_count": 21,
      "outputs": []
    },
    {
      "cell_type": "code",
      "source": [
        "# def Evaluate + Performance Check\n",
        "def evaluate(model, test_loader):\n",
        "  model.eval()\n",
        "  test_loss = 0\n",
        "  correct = 0\n",
        "\n",
        "  with torch.no_grad():\n",
        "    for image, label in test_loader:\n",
        "      image = image.to(DEVICE)\n",
        "      label = label.to(DEVICE)\n",
        "      output = model(image)\n",
        "      test_loss += criterion(output, label).item()\n",
        "      prediction = output.max(1, keepdim = True)[1]\n",
        "      correct += prediction.eq(label.view_as(prediction)).sum().item()\n",
        "\n",
        "  test_loss /= len(test_loader.dataset)\n",
        "  test_accuracy = 100. * correct / len(test_loader.dataset)\n",
        "  return test_loss, test_accuracy"
      ],
      "metadata": {
        "id": "toogaN1EgnnQ"
      },
      "execution_count": 22,
      "outputs": []
    },
    {
      "cell_type": "code",
      "source": [
        "# Final\n",
        "for Epoch in range(1, EPOCHS + 1):\n",
        "  train(model, train_loader, optimizer, log_interval = 200)\n",
        "  test_loss, test_accuracy = evaluate(model, test_loader)\n",
        "  print(\"\\n[EPOCH: {}], \\tTest Loss: {:.4f}, \\tTest Accuracy: {:.2f} % \\n\".\n",
        "        format(Epoch, test_loss, test_accuracy))"
      ],
      "metadata": {
        "colab": {
          "base_uri": "https://localhost:8080/"
        },
        "id": "JlVTe36vh2m5",
        "outputId": "8d7d1600-5e2f-45f8-e263-e136ebfdac60"
      },
      "execution_count": 23,
      "outputs": [
        {
          "output_type": "stream",
          "name": "stderr",
          "text": [
            "<ipython-input-19-aff66eb2572d>:36: UserWarning: Implicit dimension choice for log_softmax has been deprecated. Change the call to include dim=X as an argument.\n",
            "  x = F.log_softmax(x)\n"
          ]
        },
        {
          "output_type": "stream",
          "name": "stdout",
          "text": [
            "Train Epoch: 1 [0/50000(0%)]\tTrain Loss: 2.282112\n",
            "Train Epoch: 1 [6400/50000(13%)]\tTrain Loss: 1.874463\n",
            "Train Epoch: 1 [12800/50000(26%)]\tTrain Loss: 1.596941\n",
            "Train Epoch: 1 [19200/50000(38%)]\tTrain Loss: 2.012149\n",
            "Train Epoch: 1 [25600/50000(51%)]\tTrain Loss: 1.700021\n",
            "Train Epoch: 1 [32000/50000(64%)]\tTrain Loss: 1.617754\n",
            "Train Epoch: 1 [38400/50000(77%)]\tTrain Loss: 1.565470\n",
            "Train Epoch: 1 [44800/50000(90%)]\tTrain Loss: 1.501528\n",
            "\n",
            "[EPOCH: 1], \tTest Loss: 0.0461, \tTest Accuracy: 46.23 % \n",
            "\n",
            "Train Epoch: 2 [0/50000(0%)]\tTrain Loss: 1.438956\n",
            "Train Epoch: 2 [6400/50000(13%)]\tTrain Loss: 1.505368\n",
            "Train Epoch: 2 [12800/50000(26%)]\tTrain Loss: 1.288375\n",
            "Train Epoch: 2 [19200/50000(38%)]\tTrain Loss: 1.675552\n",
            "Train Epoch: 2 [25600/50000(51%)]\tTrain Loss: 1.562471\n",
            "Train Epoch: 2 [32000/50000(64%)]\tTrain Loss: 1.345078\n",
            "Train Epoch: 2 [38400/50000(77%)]\tTrain Loss: 1.535532\n",
            "Train Epoch: 2 [44800/50000(90%)]\tTrain Loss: 1.127377\n",
            "\n",
            "[EPOCH: 2], \tTest Loss: 0.0436, \tTest Accuracy: 49.81 % \n",
            "\n",
            "Train Epoch: 3 [0/50000(0%)]\tTrain Loss: 1.328359\n",
            "Train Epoch: 3 [6400/50000(13%)]\tTrain Loss: 1.409534\n",
            "Train Epoch: 3 [12800/50000(26%)]\tTrain Loss: 1.251966\n",
            "Train Epoch: 3 [19200/50000(38%)]\tTrain Loss: 1.517007\n",
            "Train Epoch: 3 [25600/50000(51%)]\tTrain Loss: 0.945781\n",
            "Train Epoch: 3 [32000/50000(64%)]\tTrain Loss: 1.289458\n",
            "Train Epoch: 3 [38400/50000(77%)]\tTrain Loss: 1.076759\n",
            "Train Epoch: 3 [44800/50000(90%)]\tTrain Loss: 1.546829\n",
            "\n",
            "[EPOCH: 3], \tTest Loss: 0.0407, \tTest Accuracy: 53.35 % \n",
            "\n",
            "Train Epoch: 4 [0/50000(0%)]\tTrain Loss: 1.294875\n",
            "Train Epoch: 4 [6400/50000(13%)]\tTrain Loss: 1.157157\n",
            "Train Epoch: 4 [12800/50000(26%)]\tTrain Loss: 1.276558\n",
            "Train Epoch: 4 [19200/50000(38%)]\tTrain Loss: 1.207478\n",
            "Train Epoch: 4 [25600/50000(51%)]\tTrain Loss: 1.143723\n",
            "Train Epoch: 4 [32000/50000(64%)]\tTrain Loss: 0.880399\n",
            "Train Epoch: 4 [38400/50000(77%)]\tTrain Loss: 1.079466\n",
            "Train Epoch: 4 [44800/50000(90%)]\tTrain Loss: 1.003467\n",
            "\n",
            "[EPOCH: 4], \tTest Loss: 0.0361, \tTest Accuracy: 59.23 % \n",
            "\n",
            "Train Epoch: 5 [0/50000(0%)]\tTrain Loss: 1.041939\n",
            "Train Epoch: 5 [6400/50000(13%)]\tTrain Loss: 0.818600\n",
            "Train Epoch: 5 [12800/50000(26%)]\tTrain Loss: 1.039690\n",
            "Train Epoch: 5 [19200/50000(38%)]\tTrain Loss: 1.183122\n",
            "Train Epoch: 5 [25600/50000(51%)]\tTrain Loss: 1.060230\n",
            "Train Epoch: 5 [32000/50000(64%)]\tTrain Loss: 1.206740\n",
            "Train Epoch: 5 [38400/50000(77%)]\tTrain Loss: 1.149185\n",
            "Train Epoch: 5 [44800/50000(90%)]\tTrain Loss: 0.825675\n",
            "\n",
            "[EPOCH: 5], \tTest Loss: 0.0347, \tTest Accuracy: 60.43 % \n",
            "\n",
            "Train Epoch: 6 [0/50000(0%)]\tTrain Loss: 1.154812\n",
            "Train Epoch: 6 [6400/50000(13%)]\tTrain Loss: 1.082193\n",
            "Train Epoch: 6 [12800/50000(26%)]\tTrain Loss: 1.160786\n",
            "Train Epoch: 6 [19200/50000(38%)]\tTrain Loss: 1.223383\n",
            "Train Epoch: 6 [25600/50000(51%)]\tTrain Loss: 1.196149\n",
            "Train Epoch: 6 [32000/50000(64%)]\tTrain Loss: 1.233896\n",
            "Train Epoch: 6 [38400/50000(77%)]\tTrain Loss: 0.867619\n",
            "Train Epoch: 6 [44800/50000(90%)]\tTrain Loss: 0.891348\n",
            "\n",
            "[EPOCH: 6], \tTest Loss: 0.0337, \tTest Accuracy: 62.67 % \n",
            "\n",
            "Train Epoch: 7 [0/50000(0%)]\tTrain Loss: 0.960699\n",
            "Train Epoch: 7 [6400/50000(13%)]\tTrain Loss: 0.732047\n",
            "Train Epoch: 7 [12800/50000(26%)]\tTrain Loss: 1.466377\n",
            "Train Epoch: 7 [19200/50000(38%)]\tTrain Loss: 1.117303\n",
            "Train Epoch: 7 [25600/50000(51%)]\tTrain Loss: 1.255203\n",
            "Train Epoch: 7 [32000/50000(64%)]\tTrain Loss: 1.077890\n",
            "Train Epoch: 7 [38400/50000(77%)]\tTrain Loss: 1.122262\n",
            "Train Epoch: 7 [44800/50000(90%)]\tTrain Loss: 1.083428\n",
            "\n",
            "[EPOCH: 7], \tTest Loss: 0.0332, \tTest Accuracy: 62.51 % \n",
            "\n",
            "Train Epoch: 8 [0/50000(0%)]\tTrain Loss: 1.052376\n",
            "Train Epoch: 8 [6400/50000(13%)]\tTrain Loss: 1.182655\n",
            "Train Epoch: 8 [12800/50000(26%)]\tTrain Loss: 0.923440\n",
            "Train Epoch: 8 [19200/50000(38%)]\tTrain Loss: 0.720503\n",
            "Train Epoch: 8 [25600/50000(51%)]\tTrain Loss: 0.985308\n",
            "Train Epoch: 8 [32000/50000(64%)]\tTrain Loss: 0.712575\n",
            "Train Epoch: 8 [38400/50000(77%)]\tTrain Loss: 0.830239\n",
            "Train Epoch: 8 [44800/50000(90%)]\tTrain Loss: 0.720088\n",
            "\n",
            "[EPOCH: 8], \tTest Loss: 0.0332, \tTest Accuracy: 63.21 % \n",
            "\n",
            "Train Epoch: 9 [0/50000(0%)]\tTrain Loss: 0.815187\n",
            "Train Epoch: 9 [6400/50000(13%)]\tTrain Loss: 0.940985\n",
            "Train Epoch: 9 [12800/50000(26%)]\tTrain Loss: 0.993477\n",
            "Train Epoch: 9 [19200/50000(38%)]\tTrain Loss: 1.046220\n",
            "Train Epoch: 9 [25600/50000(51%)]\tTrain Loss: 1.206203\n",
            "Train Epoch: 9 [32000/50000(64%)]\tTrain Loss: 0.826443\n",
            "Train Epoch: 9 [38400/50000(77%)]\tTrain Loss: 1.012354\n",
            "Train Epoch: 9 [44800/50000(90%)]\tTrain Loss: 1.306517\n",
            "\n",
            "[EPOCH: 9], \tTest Loss: 0.0319, \tTest Accuracy: 64.21 % \n",
            "\n",
            "Train Epoch: 10 [0/50000(0%)]\tTrain Loss: 0.836607\n",
            "Train Epoch: 10 [6400/50000(13%)]\tTrain Loss: 0.953521\n",
            "Train Epoch: 10 [12800/50000(26%)]\tTrain Loss: 1.360063\n",
            "Train Epoch: 10 [19200/50000(38%)]\tTrain Loss: 0.909449\n",
            "Train Epoch: 10 [25600/50000(51%)]\tTrain Loss: 1.286721\n",
            "Train Epoch: 10 [32000/50000(64%)]\tTrain Loss: 0.918833\n",
            "Train Epoch: 10 [38400/50000(77%)]\tTrain Loss: 0.999830\n",
            "Train Epoch: 10 [44800/50000(90%)]\tTrain Loss: 0.721012\n",
            "\n",
            "[EPOCH: 10], \tTest Loss: 0.0319, \tTest Accuracy: 64.02 % \n",
            "\n"
          ]
        }
      ]
    }
  ]
}