{
  "nbformat": 4,
  "nbformat_minor": 0,
  "metadata": {
    "colab": {
      "provenance": [],
      "authorship_tag": "ABX9TyMGMWQl3da6ImJbQ+uX0PJV",
      "include_colab_link": true
    },
    "kernelspec": {
      "name": "python3",
      "display_name": "Python 3"
    },
    "language_info": {
      "name": "python"
    },
    "widgets": {
      "application/vnd.jupyter.widget-state+json": {
        "27b837da3ca040848f385aa4d1edc0db": {
          "model_module": "@jupyter-widgets/controls",
          "model_name": "HBoxModel",
          "model_module_version": "1.5.0",
          "state": {
            "_dom_classes": [],
            "_model_module": "@jupyter-widgets/controls",
            "_model_module_version": "1.5.0",
            "_model_name": "HBoxModel",
            "_view_count": null,
            "_view_module": "@jupyter-widgets/controls",
            "_view_module_version": "1.5.0",
            "_view_name": "HBoxView",
            "box_style": "",
            "children": [
              "IPY_MODEL_65af904ce0b34d73bca6fb786167929e",
              "IPY_MODEL_1502a50ebe8a4fa49b6c53731f4272d3",
              "IPY_MODEL_d1806a8c37704b308be05abcedf1b33b"
            ],
            "layout": "IPY_MODEL_d60f71aecd844498b1eeded382263554"
          }
        },
        "65af904ce0b34d73bca6fb786167929e": {
          "model_module": "@jupyter-widgets/controls",
          "model_name": "HTMLModel",
          "model_module_version": "1.5.0",
          "state": {
            "_dom_classes": [],
            "_model_module": "@jupyter-widgets/controls",
            "_model_module_version": "1.5.0",
            "_model_name": "HTMLModel",
            "_view_count": null,
            "_view_module": "@jupyter-widgets/controls",
            "_view_module_version": "1.5.0",
            "_view_name": "HTMLView",
            "description": "",
            "description_tooltip": null,
            "layout": "IPY_MODEL_d8757214da994de398f86485075fa10b",
            "placeholder": "​",
            "style": "IPY_MODEL_69cc307dc6b64bc4b152dc6bbe27bba5",
            "value": "100%"
          }
        },
        "1502a50ebe8a4fa49b6c53731f4272d3": {
          "model_module": "@jupyter-widgets/controls",
          "model_name": "FloatProgressModel",
          "model_module_version": "1.5.0",
          "state": {
            "_dom_classes": [],
            "_model_module": "@jupyter-widgets/controls",
            "_model_module_version": "1.5.0",
            "_model_name": "FloatProgressModel",
            "_view_count": null,
            "_view_module": "@jupyter-widgets/controls",
            "_view_module_version": "1.5.0",
            "_view_name": "ProgressView",
            "bar_style": "success",
            "description": "",
            "description_tooltip": null,
            "layout": "IPY_MODEL_b055e206b2044746b7ae7e5e0d78ba75",
            "max": 170498071,
            "min": 0,
            "orientation": "horizontal",
            "style": "IPY_MODEL_dac0c32f8263403abd31d559edc276d0",
            "value": 170498071
          }
        },
        "d1806a8c37704b308be05abcedf1b33b": {
          "model_module": "@jupyter-widgets/controls",
          "model_name": "HTMLModel",
          "model_module_version": "1.5.0",
          "state": {
            "_dom_classes": [],
            "_model_module": "@jupyter-widgets/controls",
            "_model_module_version": "1.5.0",
            "_model_name": "HTMLModel",
            "_view_count": null,
            "_view_module": "@jupyter-widgets/controls",
            "_view_module_version": "1.5.0",
            "_view_name": "HTMLView",
            "description": "",
            "description_tooltip": null,
            "layout": "IPY_MODEL_fb98e181fa164005a2f6145a5ff7f678",
            "placeholder": "​",
            "style": "IPY_MODEL_a8be0d2ba1894935bcf1995b6ced13cd",
            "value": " 170498071/170498071 [00:10&lt;00:00, 17099779.49it/s]"
          }
        },
        "d60f71aecd844498b1eeded382263554": {
          "model_module": "@jupyter-widgets/base",
          "model_name": "LayoutModel",
          "model_module_version": "1.2.0",
          "state": {
            "_model_module": "@jupyter-widgets/base",
            "_model_module_version": "1.2.0",
            "_model_name": "LayoutModel",
            "_view_count": null,
            "_view_module": "@jupyter-widgets/base",
            "_view_module_version": "1.2.0",
            "_view_name": "LayoutView",
            "align_content": null,
            "align_items": null,
            "align_self": null,
            "border": null,
            "bottom": null,
            "display": null,
            "flex": null,
            "flex_flow": null,
            "grid_area": null,
            "grid_auto_columns": null,
            "grid_auto_flow": null,
            "grid_auto_rows": null,
            "grid_column": null,
            "grid_gap": null,
            "grid_row": null,
            "grid_template_areas": null,
            "grid_template_columns": null,
            "grid_template_rows": null,
            "height": null,
            "justify_content": null,
            "justify_items": null,
            "left": null,
            "margin": null,
            "max_height": null,
            "max_width": null,
            "min_height": null,
            "min_width": null,
            "object_fit": null,
            "object_position": null,
            "order": null,
            "overflow": null,
            "overflow_x": null,
            "overflow_y": null,
            "padding": null,
            "right": null,
            "top": null,
            "visibility": null,
            "width": null
          }
        },
        "d8757214da994de398f86485075fa10b": {
          "model_module": "@jupyter-widgets/base",
          "model_name": "LayoutModel",
          "model_module_version": "1.2.0",
          "state": {
            "_model_module": "@jupyter-widgets/base",
            "_model_module_version": "1.2.0",
            "_model_name": "LayoutModel",
            "_view_count": null,
            "_view_module": "@jupyter-widgets/base",
            "_view_module_version": "1.2.0",
            "_view_name": "LayoutView",
            "align_content": null,
            "align_items": null,
            "align_self": null,
            "border": null,
            "bottom": null,
            "display": null,
            "flex": null,
            "flex_flow": null,
            "grid_area": null,
            "grid_auto_columns": null,
            "grid_auto_flow": null,
            "grid_auto_rows": null,
            "grid_column": null,
            "grid_gap": null,
            "grid_row": null,
            "grid_template_areas": null,
            "grid_template_columns": null,
            "grid_template_rows": null,
            "height": null,
            "justify_content": null,
            "justify_items": null,
            "left": null,
            "margin": null,
            "max_height": null,
            "max_width": null,
            "min_height": null,
            "min_width": null,
            "object_fit": null,
            "object_position": null,
            "order": null,
            "overflow": null,
            "overflow_x": null,
            "overflow_y": null,
            "padding": null,
            "right": null,
            "top": null,
            "visibility": null,
            "width": null
          }
        },
        "69cc307dc6b64bc4b152dc6bbe27bba5": {
          "model_module": "@jupyter-widgets/controls",
          "model_name": "DescriptionStyleModel",
          "model_module_version": "1.5.0",
          "state": {
            "_model_module": "@jupyter-widgets/controls",
            "_model_module_version": "1.5.0",
            "_model_name": "DescriptionStyleModel",
            "_view_count": null,
            "_view_module": "@jupyter-widgets/base",
            "_view_module_version": "1.2.0",
            "_view_name": "StyleView",
            "description_width": ""
          }
        },
        "b055e206b2044746b7ae7e5e0d78ba75": {
          "model_module": "@jupyter-widgets/base",
          "model_name": "LayoutModel",
          "model_module_version": "1.2.0",
          "state": {
            "_model_module": "@jupyter-widgets/base",
            "_model_module_version": "1.2.0",
            "_model_name": "LayoutModel",
            "_view_count": null,
            "_view_module": "@jupyter-widgets/base",
            "_view_module_version": "1.2.0",
            "_view_name": "LayoutView",
            "align_content": null,
            "align_items": null,
            "align_self": null,
            "border": null,
            "bottom": null,
            "display": null,
            "flex": null,
            "flex_flow": null,
            "grid_area": null,
            "grid_auto_columns": null,
            "grid_auto_flow": null,
            "grid_auto_rows": null,
            "grid_column": null,
            "grid_gap": null,
            "grid_row": null,
            "grid_template_areas": null,
            "grid_template_columns": null,
            "grid_template_rows": null,
            "height": null,
            "justify_content": null,
            "justify_items": null,
            "left": null,
            "margin": null,
            "max_height": null,
            "max_width": null,
            "min_height": null,
            "min_width": null,
            "object_fit": null,
            "object_position": null,
            "order": null,
            "overflow": null,
            "overflow_x": null,
            "overflow_y": null,
            "padding": null,
            "right": null,
            "top": null,
            "visibility": null,
            "width": null
          }
        },
        "dac0c32f8263403abd31d559edc276d0": {
          "model_module": "@jupyter-widgets/controls",
          "model_name": "ProgressStyleModel",
          "model_module_version": "1.5.0",
          "state": {
            "_model_module": "@jupyter-widgets/controls",
            "_model_module_version": "1.5.0",
            "_model_name": "ProgressStyleModel",
            "_view_count": null,
            "_view_module": "@jupyter-widgets/base",
            "_view_module_version": "1.2.0",
            "_view_name": "StyleView",
            "bar_color": null,
            "description_width": ""
          }
        },
        "fb98e181fa164005a2f6145a5ff7f678": {
          "model_module": "@jupyter-widgets/base",
          "model_name": "LayoutModel",
          "model_module_version": "1.2.0",
          "state": {
            "_model_module": "@jupyter-widgets/base",
            "_model_module_version": "1.2.0",
            "_model_name": "LayoutModel",
            "_view_count": null,
            "_view_module": "@jupyter-widgets/base",
            "_view_module_version": "1.2.0",
            "_view_name": "LayoutView",
            "align_content": null,
            "align_items": null,
            "align_self": null,
            "border": null,
            "bottom": null,
            "display": null,
            "flex": null,
            "flex_flow": null,
            "grid_area": null,
            "grid_auto_columns": null,
            "grid_auto_flow": null,
            "grid_auto_rows": null,
            "grid_column": null,
            "grid_gap": null,
            "grid_row": null,
            "grid_template_areas": null,
            "grid_template_columns": null,
            "grid_template_rows": null,
            "height": null,
            "justify_content": null,
            "justify_items": null,
            "left": null,
            "margin": null,
            "max_height": null,
            "max_width": null,
            "min_height": null,
            "min_width": null,
            "object_fit": null,
            "object_position": null,
            "order": null,
            "overflow": null,
            "overflow_x": null,
            "overflow_y": null,
            "padding": null,
            "right": null,
            "top": null,
            "visibility": null,
            "width": null
          }
        },
        "a8be0d2ba1894935bcf1995b6ced13cd": {
          "model_module": "@jupyter-widgets/controls",
          "model_name": "DescriptionStyleModel",
          "model_module_version": "1.5.0",
          "state": {
            "_model_module": "@jupyter-widgets/controls",
            "_model_module_version": "1.5.0",
            "_model_name": "DescriptionStyleModel",
            "_view_count": null,
            "_view_module": "@jupyter-widgets/base",
            "_view_module_version": "1.2.0",
            "_view_name": "StyleView",
            "description_width": ""
          }
        }
      }
    }
  },
  "cells": [
    {
      "cell_type": "markdown",
      "metadata": {
        "id": "view-in-github",
        "colab_type": "text"
      },
      "source": [
        "<a href=\"https://colab.research.google.com/github/HaeRin-OortCloud/AI-Lab/blob/main/CNN_CIFAR10.ipynb\" target=\"_parent\"><img src=\"https://colab.research.google.com/assets/colab-badge.svg\" alt=\"Open In Colab\"/></a>"
      ]
    },
    {
      "cell_type": "code",
      "execution_count": 2,
      "metadata": {
        "id": "VNh_SjDG1pYh"
      },
      "outputs": [],
      "source": [
        "# Model Import\n",
        "import numpy as np\n",
        "import matplotlib.pyplot as plt\n",
        "import torch\n",
        "import torch.nn as nn\n",
        "import torch.nn.functional as F\n",
        "from torchvision import transforms, datasets "
      ]
    },
    {
      "cell_type": "code",
      "source": [
        "# Device Check\n",
        "if torch.cuda.is_available():\n",
        "  DEVICE = torch.device('cuda')\n",
        "else:\n",
        "  DEVICE = torch.device('cpu')\n",
        "print('Using PyTorch version:', torch.__version__, ' Device:', DEVICE)\n",
        "\n",
        "BATCH_SIZE = 32\n",
        "EPOCHS = 10"
      ],
      "metadata": {
        "colab": {
          "base_uri": "https://localhost:8080/"
        },
        "id": "q9Nu9opm9Req",
        "outputId": "950ade3d-240d-47e7-8d31-d28efb62b2f5"
      },
      "execution_count": 3,
      "outputs": [
        {
          "output_type": "stream",
          "name": "stdout",
          "text": [
            "Using PyTorch version: 1.13.0+cu116  Device: cpu\n"
          ]
        }
      ]
    },
    {
      "cell_type": "code",
      "source": [
        "# CHIFAR10 Data Download\n",
        "## Data Augmentation\n",
        "\n",
        "train_dataset = datasets.CIFAR10(root = \"../data/CIFAR_10\",\n",
        "                                 train = True,\n",
        "                                 download = True,\n",
        "                                 transform = transforms.Compose([\n",
        "                                     transforms.RandomHorizontalFlip(),\n",
        "                                     transforms.ToTensor()]))\n",
        "\n",
        "\n",
        "test_dataset = datasets.CIFAR10(root = \"../data/CIFAR_10\",\n",
        "                                train = False,\n",
        "                                transform = transforms.Compose([\n",
        "                                    transforms.RandomHorizontalFlip(),\n",
        "                                    transforms.ToTensor()]))\n",
        "\n",
        "\n",
        "\n",
        "train_loader = torch.utils.data.DataLoader(dataset = train_dataset,\n",
        "                                           batch_size = BATCH_SIZE,\n",
        "                                           shuffle = True)\n",
        "\n",
        "test_loader = torch.utils.data.DataLoader(dataset = test_dataset,\n",
        "                                          batch_size = BATCH_SIZE,\n",
        "                                          shuffle = False)"
      ],
      "metadata": {
        "colab": {
          "base_uri": "https://localhost:8080/",
          "height": 85,
          "referenced_widgets": [
            "27b837da3ca040848f385aa4d1edc0db",
            "65af904ce0b34d73bca6fb786167929e",
            "1502a50ebe8a4fa49b6c53731f4272d3",
            "d1806a8c37704b308be05abcedf1b33b",
            "d60f71aecd844498b1eeded382263554",
            "d8757214da994de398f86485075fa10b",
            "69cc307dc6b64bc4b152dc6bbe27bba5",
            "b055e206b2044746b7ae7e5e0d78ba75",
            "dac0c32f8263403abd31d559edc276d0",
            "fb98e181fa164005a2f6145a5ff7f678",
            "a8be0d2ba1894935bcf1995b6ced13cd"
          ]
        },
        "id": "7c8k25Ou9l-q",
        "outputId": "fb393978-27d2-42bf-e4b0-d730fb69f6e5"
      },
      "execution_count": 4,
      "outputs": [
        {
          "output_type": "stream",
          "name": "stdout",
          "text": [
            "Downloading https://www.cs.toronto.edu/~kriz/cifar-10-python.tar.gz to ../data/CIFAR_10/cifar-10-python.tar.gz\n"
          ]
        },
        {
          "output_type": "display_data",
          "data": {
            "text/plain": [
              "  0%|          | 0/170498071 [00:00<?, ?it/s]"
            ],
            "application/vnd.jupyter.widget-view+json": {
              "version_major": 2,
              "version_minor": 0,
              "model_id": "27b837da3ca040848f385aa4d1edc0db"
            }
          },
          "metadata": {}
        },
        {
          "output_type": "stream",
          "name": "stdout",
          "text": [
            "Extracting ../data/CIFAR_10/cifar-10-python.tar.gz to ../data/CIFAR_10\n"
          ]
        }
      ]
    },
    {
      "cell_type": "code",
      "source": [
        "# Data Check(1)\n",
        "for (x_train, y_train) in train_loader:\n",
        "  print('x_train:', x_train.size(), 'type:', x_train.type())\n",
        "  print('y_train:', y_train.size(), 'type:', y_train.type())\n",
        "  break"
      ],
      "metadata": {
        "colab": {
          "base_uri": "https://localhost:8080/"
        },
        "id": "dsdV7XFnAVh1",
        "outputId": "25896aa2-39d9-46ff-c615-7fc782b9b33c"
      },
      "execution_count": 5,
      "outputs": [
        {
          "output_type": "stream",
          "name": "stdout",
          "text": [
            "x_train: torch.Size([32, 3, 32, 32]) type: torch.FloatTensor\n",
            "y_train: torch.Size([32]) type: torch.LongTensor\n"
          ]
        }
      ]
    },
    {
      "cell_type": "code",
      "source": [
        "# Data Check(2)\n",
        "pltsize = 1\n",
        "plt.figure(figsize=(10 * pltsize, pltsize))\n",
        "\n",
        "for i in range(10):\n",
        "  plt.subplot(1, 10, i + 1)\n",
        "  plt.axis('off')\n",
        "  plt.imshow(np.transpose(x_train[i], (1, 2, 0)))\n",
        "  plt.title('Class: ' + str(y_train[i].item()))"
      ],
      "metadata": {
        "colab": {
          "base_uri": "https://localhost:8080/",
          "height": 94
        },
        "id": "30QR632KA1bl",
        "outputId": "46c54b5b-6327-4312-986a-f152c62d3cb3"
      },
      "execution_count": 6,
      "outputs": [
        {
          "output_type": "display_data",
          "data": {
            "text/plain": [
              "<Figure size 720x72 with 10 Axes>"
            ],
            "image/png": "[encoded data removed]"
          },
          "metadata": {
            "needs_background": "light"
          }
        }
      ]
    },
    {
      "cell_type": "code",
      "source": [
        "# CNN Model Design\n",
        "class CNN(nn.Module):\n",
        "  def __init__(self):\n",
        "    super(CNN, self).__init__()\n",
        "    self.conv1 = nn.Conv2d(\n",
        "        in_channels = 3,\n",
        "        out_channels = 8,\n",
        "        kernel_size = 3,\n",
        "        padding = 1)\n",
        "    self.conv2 = nn.Conv2d(\n",
        "        in_channels = 8,\n",
        "        out_channels = 16,\n",
        "        kernel_size = 3,\n",
        "        padding = 1)\n",
        "    self.pool = nn.MaxPool2d(\n",
        "        kernel_size = 2,\n",
        "        stride = 2)\n",
        "    self.fc1 = nn.Linear(8 * 8 * 16, 64)\n",
        "    self.fc2 = nn.Linear(64, 32)\n",
        "    self.fc3 = nn.Linear(32, 10)\n",
        "\n",
        "  def forward(self, x):\n",
        "    x = self.conv1(x)\n",
        "    x = F.relu(x)\n",
        "    x = self.pool(x)\n",
        "    x = self.conv2(x)\n",
        "    x = F.relu(x)\n",
        "    x = self.pool(x)\n",
        "\n",
        "    x = x.view(-1, 8 * 8 * 16)\n",
        "    x = self.fc1(x)\n",
        "    x = F.relu(x)\n",
        "    x = self.fc2(x)\n",
        "    x = F.relu(x)\n",
        "    x = self.fc3(x)\n",
        "    x = F.log_softmax(x, dim = 1 )\n",
        "    return x"
      ],
      "metadata": {
        "id": "t7LlxwG2Nsb3"
      },
      "execution_count": 7,
      "outputs": []
    },
    {
      "cell_type": "code",
      "source": [
        "# Optimizer, Objective Function\n",
        "model = CNN().to(DEVICE)\n",
        "optimizer = torch.optim.Adam(model.parameters(), lr = 0.001)\n",
        "criterion  = nn.CrossEntropyLoss()\n",
        "print(model)"
      ],
      "metadata": {
        "colab": {
          "base_uri": "https://localhost:8080/"
        },
        "id": "dqJNSghVdIVh",
        "outputId": "8e1415af-3e1f-4b7e-cadb-460fc2dd7bf1"
      },
      "execution_count": 8,
      "outputs": [
        {
          "output_type": "stream",
          "name": "stdout",
          "text": [
            "CNN(\n",
            "  (conv1): Conv2d(3, 8, kernel_size=(3, 3), stride=(1, 1), padding=(1, 1))\n",
            "  (conv2): Conv2d(8, 16, kernel_size=(3, 3), stride=(1, 1), padding=(1, 1))\n",
            "  (pool): MaxPool2d(kernel_size=2, stride=2, padding=0, dilation=1, ceil_mode=False)\n",
            "  (fc1): Linear(in_features=1024, out_features=64, bias=True)\n",
            "  (fc2): Linear(in_features=64, out_features=32, bias=True)\n",
            "  (fc3): Linear(in_features=32, out_features=10, bias=True)\n",
            ")\n"
          ]
        }
      ]
    },
    {
      "cell_type": "code",
      "source": [
        "# def Train + Performance Check\n",
        "def train(model, train_loader, optimizer, log_interval):\n",
        "  model.train()\n",
        "  for batch_idx, (image, label) in enumerate(train_loader):\n",
        "    image = image.to(DEVICE)\n",
        "    label = label.to(DEVICE)\n",
        "    optimizer.zero_grad()\n",
        "    output = model(image)\n",
        "    loss = criterion(output, label)\n",
        "    loss.backward()\n",
        "    optimizer.step()\n",
        "\n",
        "    if batch_idx % log_interval == 0:\n",
        "      print(\"Train Epoch: {} [{}/{}({:.0f}%)]\\tTrain Loss: {:.6f}\".format(\n",
        "          Epoch, batch_idx * len(image), \n",
        "          len(train_loader.dataset), 100. * batch_idx / len(train_loader),\n",
        "          loss.item()))"
      ],
      "metadata": {
        "id": "ueXie57bdcV0"
      },
      "execution_count": 9,
      "outputs": []
    },
    {
      "cell_type": "code",
      "source": [
        "# def Evaluate + Performance Check\n",
        "def evaluate(model, test_loader):\n",
        "  model.eval()\n",
        "  test_loss = 0\n",
        "  correct = 0\n",
        "\n",
        "  with torch.no_grad():\n",
        "    for image, label in test_loader:\n",
        "      image = image.to(DEVICE)\n",
        "      label = label.to(DEVICE)\n",
        "      output = model(image)\n",
        "      test_loss += criterion(output, label).item()\n",
        "      prediction = output.max(1, keepdim = True)[1]\n",
        "      correct += prediction.eq(label.view_as(prediction)).sum().item()\n",
        "\n",
        "  test_loss /= len(test_loader.dataset)\n",
        "  test_accuracy = 100. * correct / len(test_loader.dataset)\n",
        "  return test_loss, test_accuracy"
      ],
      "metadata": {
        "id": "toogaN1EgnnQ"
      },
      "execution_count": 10,
      "outputs": []
    },
    {
      "cell_type": "code",
      "source": [
        "# Final\n",
        "for Epoch in range(1, EPOCHS + 1):\n",
        "  train(model, train_loader, optimizer, log_interval = 200)\n",
        "  test_loss, test_accuracy = evaluate(model, test_loader)\n",
        "  print(\"\\n[EPOCH: {}], \\tTest Loss: {:.4f}, \\tTest Accuracy: {:.2f} % \\n\".\n",
        "        format(Epoch, test_loss, test_accuracy))"
      ],
      "metadata": {
        "colab": {
          "base_uri": "https://localhost:8080/"
        },
        "id": "JlVTe36vh2m5",
        "outputId": "72043804-45d9-4882-ceea-2950b32a6a15"
      },
      "execution_count": 11,
      "outputs": [
        {
          "output_type": "stream",
          "name": "stdout",
          "text": [
            "Train Epoch: 1 [0/50000(0%)]\tTrain Loss: 2.316940\n",
            "Train Epoch: 1 [6400/50000(13%)]\tTrain Loss: 2.122273\n",
            "Train Epoch: 1 [12800/50000(26%)]\tTrain Loss: 1.878482\n",
            "Train Epoch: 1 [19200/50000(38%)]\tTrain Loss: 2.148469\n",
            "Train Epoch: 1 [25600/50000(51%)]\tTrain Loss: 1.736024\n",
            "Train Epoch: 1 [32000/50000(64%)]\tTrain Loss: 1.461268\n",
            "Train Epoch: 1 [38400/50000(77%)]\tTrain Loss: 1.649997\n",
            "Train Epoch: 1 [44800/50000(90%)]\tTrain Loss: 1.667585\n",
            "\n",
            "[EPOCH: 1], \tTest Loss: 0.0471, \tTest Accuracy: 45.06 % \n",
            "\n",
            "Train Epoch: 2 [0/50000(0%)]\tTrain Loss: 1.446683\n",
            "Train Epoch: 2 [6400/50000(13%)]\tTrain Loss: 1.267823\n",
            "Train Epoch: 2 [12800/50000(26%)]\tTrain Loss: 1.272828\n",
            "Train Epoch: 2 [19200/50000(38%)]\tTrain Loss: 1.617873\n",
            "Train Epoch: 2 [25600/50000(51%)]\tTrain Loss: 1.294266\n",
            "Train Epoch: 2 [32000/50000(64%)]\tTrain Loss: 1.551311\n",
            "Train Epoch: 2 [38400/50000(77%)]\tTrain Loss: 1.752927\n",
            "Train Epoch: 2 [44800/50000(90%)]\tTrain Loss: 1.227077\n",
            "\n",
            "[EPOCH: 2], \tTest Loss: 0.0425, \tTest Accuracy: 51.61 % \n",
            "\n",
            "Train Epoch: 3 [0/50000(0%)]\tTrain Loss: 1.081909\n",
            "Train Epoch: 3 [6400/50000(13%)]\tTrain Loss: 1.328456\n",
            "Train Epoch: 3 [12800/50000(26%)]\tTrain Loss: 1.373162\n",
            "Train Epoch: 3 [19200/50000(38%)]\tTrain Loss: 1.258234\n",
            "Train Epoch: 3 [25600/50000(51%)]\tTrain Loss: 1.375112\n",
            "Train Epoch: 3 [32000/50000(64%)]\tTrain Loss: 1.249398\n",
            "Train Epoch: 3 [38400/50000(77%)]\tTrain Loss: 1.147149\n",
            "Train Epoch: 3 [44800/50000(90%)]\tTrain Loss: 1.175465\n",
            "\n",
            "[EPOCH: 3], \tTest Loss: 0.0408, \tTest Accuracy: 53.35 % \n",
            "\n",
            "Train Epoch: 4 [0/50000(0%)]\tTrain Loss: 1.397836\n",
            "Train Epoch: 4 [6400/50000(13%)]\tTrain Loss: 1.316139\n",
            "Train Epoch: 4 [12800/50000(26%)]\tTrain Loss: 0.788017\n",
            "Train Epoch: 4 [19200/50000(38%)]\tTrain Loss: 1.358627\n",
            "Train Epoch: 4 [25600/50000(51%)]\tTrain Loss: 1.400336\n",
            "Train Epoch: 4 [32000/50000(64%)]\tTrain Loss: 1.433739\n",
            "Train Epoch: 4 [38400/50000(77%)]\tTrain Loss: 1.674156\n",
            "Train Epoch: 4 [44800/50000(90%)]\tTrain Loss: 1.735120\n",
            "\n",
            "[EPOCH: 4], \tTest Loss: 0.0371, \tTest Accuracy: 58.18 % \n",
            "\n",
            "Train Epoch: 5 [0/50000(0%)]\tTrain Loss: 1.291918\n",
            "Train Epoch: 5 [6400/50000(13%)]\tTrain Loss: 1.558886\n",
            "Train Epoch: 5 [12800/50000(26%)]\tTrain Loss: 0.961567\n",
            "Train Epoch: 5 [19200/50000(38%)]\tTrain Loss: 1.423970\n",
            "Train Epoch: 5 [25600/50000(51%)]\tTrain Loss: 1.444926\n",
            "Train Epoch: 5 [32000/50000(64%)]\tTrain Loss: 0.814104\n",
            "Train Epoch: 5 [38400/50000(77%)]\tTrain Loss: 0.934645\n",
            "Train Epoch: 5 [44800/50000(90%)]\tTrain Loss: 1.172937\n",
            "\n",
            "[EPOCH: 5], \tTest Loss: 0.0370, \tTest Accuracy: 58.05 % \n",
            "\n",
            "Train Epoch: 6 [0/50000(0%)]\tTrain Loss: 1.064766\n",
            "Train Epoch: 6 [6400/50000(13%)]\tTrain Loss: 1.401296\n",
            "Train Epoch: 6 [12800/50000(26%)]\tTrain Loss: 1.114165\n",
            "Train Epoch: 6 [19200/50000(38%)]\tTrain Loss: 1.194436\n",
            "Train Epoch: 6 [25600/50000(51%)]\tTrain Loss: 1.031562\n",
            "Train Epoch: 6 [32000/50000(64%)]\tTrain Loss: 0.737504\n",
            "Train Epoch: 6 [38400/50000(77%)]\tTrain Loss: 1.012060\n",
            "Train Epoch: 6 [44800/50000(90%)]\tTrain Loss: 0.821274\n",
            "\n",
            "[EPOCH: 6], \tTest Loss: 0.0342, \tTest Accuracy: 61.26 % \n",
            "\n",
            "Train Epoch: 7 [0/50000(0%)]\tTrain Loss: 1.285820\n",
            "Train Epoch: 7 [6400/50000(13%)]\tTrain Loss: 0.918811\n",
            "Train Epoch: 7 [12800/50000(26%)]\tTrain Loss: 1.306974\n",
            "Train Epoch: 7 [19200/50000(38%)]\tTrain Loss: 1.058509\n",
            "Train Epoch: 7 [25600/50000(51%)]\tTrain Loss: 1.040320\n",
            "Train Epoch: 7 [32000/50000(64%)]\tTrain Loss: 0.979578\n",
            "Train Epoch: 7 [38400/50000(77%)]\tTrain Loss: 1.180536\n",
            "Train Epoch: 7 [44800/50000(90%)]\tTrain Loss: 1.175344\n",
            "\n",
            "[EPOCH: 7], \tTest Loss: 0.0344, \tTest Accuracy: 60.95 % \n",
            "\n",
            "Train Epoch: 8 [0/50000(0%)]\tTrain Loss: 1.161625\n",
            "Train Epoch: 8 [6400/50000(13%)]\tTrain Loss: 1.047136\n",
            "Train Epoch: 8 [12800/50000(26%)]\tTrain Loss: 0.937715\n",
            "Train Epoch: 8 [19200/50000(38%)]\tTrain Loss: 0.880307\n",
            "Train Epoch: 8 [25600/50000(51%)]\tTrain Loss: 0.883874\n",
            "Train Epoch: 8 [32000/50000(64%)]\tTrain Loss: 0.979961\n",
            "Train Epoch: 8 [38400/50000(77%)]\tTrain Loss: 1.042002\n",
            "Train Epoch: 8 [44800/50000(90%)]\tTrain Loss: 1.032499\n",
            "\n",
            "[EPOCH: 8], \tTest Loss: 0.0331, \tTest Accuracy: 62.59 % \n",
            "\n",
            "Train Epoch: 9 [0/50000(0%)]\tTrain Loss: 1.178644\n",
            "Train Epoch: 9 [6400/50000(13%)]\tTrain Loss: 1.171112\n",
            "Train Epoch: 9 [12800/50000(26%)]\tTrain Loss: 1.186254\n",
            "Train Epoch: 9 [19200/50000(38%)]\tTrain Loss: 0.771545\n",
            "Train Epoch: 9 [25600/50000(51%)]\tTrain Loss: 0.620459\n",
            "Train Epoch: 9 [32000/50000(64%)]\tTrain Loss: 1.166915\n",
            "Train Epoch: 9 [38400/50000(77%)]\tTrain Loss: 1.091761\n",
            "Train Epoch: 9 [44800/50000(90%)]\tTrain Loss: 1.077073\n",
            "\n",
            "[EPOCH: 9], \tTest Loss: 0.0345, \tTest Accuracy: 60.72 % \n",
            "\n",
            "Train Epoch: 10 [0/50000(0%)]\tTrain Loss: 1.231601\n",
            "Train Epoch: 10 [6400/50000(13%)]\tTrain Loss: 0.877497\n",
            "Train Epoch: 10 [12800/50000(26%)]\tTrain Loss: 0.788182\n",
            "Train Epoch: 10 [19200/50000(38%)]\tTrain Loss: 1.139354\n",
            "Train Epoch: 10 [25600/50000(51%)]\tTrain Loss: 1.282842\n",
            "Train Epoch: 10 [32000/50000(64%)]\tTrain Loss: 1.325991\n",
            "Train Epoch: 10 [38400/50000(77%)]\tTrain Loss: 1.076408\n",
            "Train Epoch: 10 [44800/50000(90%)]\tTrain Loss: 0.744617\n",
            "\n",
            "[EPOCH: 10], \tTest Loss: 0.0322, \tTest Accuracy: 63.66 % \n",
            "\n"
          ]
        }
      ]
    }
  ]
}