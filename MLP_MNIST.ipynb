{
  "nbformat": 4,
  "nbformat_minor": 0,
  "metadata": {
    "colab": {
      "provenance": [],
      "authorship_tag": "ABX9TyNbgRBfypGTLS20QNiQCyq2",
      "include_colab_link": true
    },
    "kernelspec": {
      "name": "python3",
      "display_name": "Python 3"
    },
    "language_info": {
      "name": "python"
    }
  },
  "cells": [
    {
      "cell_type": "markdown",
      "metadata": {
        "id": "view-in-github",
        "colab_type": "text"
      },
      "source": [
        "<a href=\"https://colab.research.google.com/github/HaeRin-OortCloud/AI-Lab/blob/main/MLP_MNIST.ipynb\" target=\"_parent\"><img src=\"https://colab.research.google.com/assets/colab-badge.svg\" alt=\"Open In Colab\"/></a>"
      ]
    },
    {
      "cell_type": "code",
      "execution_count": 1,
      "metadata": {
        "id": "dizC_G8oXfwz"
      },
      "outputs": [],
      "source": [
        " # Model Import\n",
        "import numpy as np\n",
        "import matplotlib.pyplot as plt\n",
        "import torch\n",
        "import torch.nn as nn\n",
        "import torch.nn.functional as F\n",
        "from torchvision import transforms, datasets"
      ]
    },
    {
      "cell_type": "code",
      "source": [
        "# Device Check\n",
        "if torch.cuda.is_available():\n",
        "  DEVICE = torch.device('cuda')\n",
        "else:\n",
        "  DEVICE = torch.device('cpu')\n",
        "print('Using PyTorch version:', torch.__version__, ' Device:', DEVICE)\n",
        "\n",
        "BATCH_SIZE = 32\n",
        "EPOCHS = 10"
      ],
      "metadata": {
        "colab": {
          "base_uri": "https://localhost:8080/"
        },
        "id": "lv4bh2HaB667",
        "outputId": "2ba87961-3a9d-46cf-f1bc-79327bf4b0eb"
      },
      "execution_count": 2,
      "outputs": [
        {
          "output_type": "stream",
          "name": "stdout",
          "text": [
            "Using PyTorch version: 1.13.0+cu116  Device: cpu\n"
          ]
        }
      ]
    },
    {
      "cell_type": "code",
      "source": [
        "# MNIST Data Download\n",
        "train_dataset = datasets.MNIST(root = \"../data/MNIST\",\n",
        "                               train = True,\n",
        "                               download = True,\n",
        "                               transform = transforms.ToTensor())\n",
        "test_dataset = datasets.MNIST(root = \"../data/MNIST\",\n",
        "                              train = False,\n",
        "                              transform = transforms.ToTensor())\n",
        "\n",
        "train_loader = torch.utils.data.DataLoader(dataset = train_dataset,\n",
        "                                           batch_size = BATCH_SIZE,\n",
        "                                           shuffle = True)\n",
        "test_loader = torch.utils.data.DataLoader(dataset = test_dataset,\n",
        "                                          batch_size = BATCH_SIZE,\n",
        "                                          shuffle = False)"
      ],
      "metadata": {
        "id": "2rpXUHmUCay0"
      },
      "execution_count": 7,
      "outputs": []
    },
    {
      "cell_type": "code",
      "source": [
        "# Data Check(1)\n",
        "for (x_train, y_train) in train_loader:\n",
        "  print('x_train:', x_train.size(), 'type:', x_train.type())\n",
        "  print('y_train:', y_train.size(), 'type:', y_train.type())\n",
        "  break"
      ],
      "metadata": {
        "colab": {
          "base_uri": "https://localhost:8080/"
        },
        "id": "QLd7suEGCizb",
        "outputId": "11231e1f-dcaf-41c8-9f1a-b3b56b5d4b39"
      },
      "execution_count": 9,
      "outputs": [
        {
          "output_type": "stream",
          "name": "stdout",
          "text": [
            "x_train: torch.Size([32, 1, 28, 28]) type: torch.FloatTensor\n",
            "y_train: torch.Size([32]) type: torch.LongTensor\n"
          ]
        }
      ]
    },
    {
      "cell_type": "code",
      "source": [
        "# Data Check(2)\n",
        "pltsize = 1\n",
        "plt.figure(figsize = (10 * pltsize, pltsize))\n",
        "for i in range(10):\n",
        "  plt.subplot(1, 10, i + 1)\n",
        "  plt.axis('off')\n",
        "  plt.imshow(x_train[i, :, :, :].numpy().reshape(28, 28), cmap = \"gray_r\")\n",
        "  plt.title('Class: ' + str(y_train[i].item()))"
      ],
      "metadata": {
        "colab": {
          "base_uri": "https://localhost:8080/",
          "height": 94
        },
        "id": "4f1lNNECEXBc",
        "outputId": "5226db9e-283d-4e30-90f3-027a5cbab56a"
      },
      "execution_count": 11,
      "outputs": [
        {
          "output_type": "display_data",
          "data": {
            "text/plain": [
              "<Figure size 720x72 with 10 Axes>"
            ],
            "image/png": "[encoded data removed]"
          },
          "metadata": {
            "needs_background": "light"
          }
        }
      ]
    },
    {
      "cell_type": "code",
      "source": [
        "# MLP(Multi Layer Perceptron) Model Design\n",
        "## Batch Normalization, ReLU, Dropout\n",
        "\n",
        "class Net(nn.Module):\n",
        "  def __init__(self):\n",
        "    super(Net, self).__init__()\n",
        "    self.fc1 = nn.Linear(28 * 28, 512)\n",
        "    self.fc2 = nn.Linear(512, 256)\n",
        "    self.fc3 = nn.Linear(256, 10)\n",
        "    self.dropout_prob = 0.5\n",
        "    self.batch_norm1 = nn.BatchNorm1d(512)\n",
        "    self.batch_norm2 = nn.BatchNorm1d(256)\n",
        "\n",
        "  def forward(self, x):\n",
        "    x = x.view(-1, 28 * 28)\n",
        "    x = self.fc1(x)\n",
        "    x = self.batch_norm1(x)\n",
        "    x = F.relu(x)\n",
        "    x = F.dropout(x, training = self.training, p = self.dropout_prob)\n",
        "    x = self.fc2(x)\n",
        "    x = self.batch_norm2(x)\n",
        "    x = F.relu(x)\n",
        "    x = F.dropout(x, training = self.training, p = self.dropout_prob)\n",
        "    x = self.fc3(x)\n",
        "    x = F.log_softmax(x, dim = 1)\n",
        "    return x"
      ],
      "metadata": {
        "id": "dPmM8HDtKB_d"
      },
      "execution_count": 31,
      "outputs": []
    },
    {
      "cell_type": "code",
      "source": [
        "# Initialization\n",
        "# Optimizer, Objective Function\n",
        "\n",
        "import torch.nn.init as init\n",
        "def weight_init(m):\n",
        "  if isinstance(m, nn.Linear):\n",
        "    init.kaiming_uniform_(m.weight.data) #He Uniform Initalization\n",
        "\n",
        "model = Net().to(DEVICE)\n",
        "model.apply(weight_init)\n",
        "optimizer = torch.optim.Adam(model.parameters(), lr = 0.01) #Adam\n",
        "criterion = nn.CrossEntropyLoss()\n",
        "print(model)"
      ],
      "metadata": {
        "colab": {
          "base_uri": "https://localhost:8080/"
        },
        "id": "AbmkvjdGL0xG",
        "outputId": "0c665d7b-3543-4dfa-fb3f-f41c127af5d3"
      },
      "execution_count": 32,
      "outputs": [
        {
          "output_type": "stream",
          "name": "stdout",
          "text": [
            "Net(\n",
            "  (fc1): Linear(in_features=784, out_features=512, bias=True)\n",
            "  (fc2): Linear(in_features=512, out_features=256, bias=True)\n",
            "  (fc3): Linear(in_features=256, out_features=10, bias=True)\n",
            "  (batch_norm1): BatchNorm1d(512, eps=1e-05, momentum=0.1, affine=True, track_running_stats=True)\n",
            "  (batch_norm2): BatchNorm1d(256, eps=1e-05, momentum=0.1, affine=True, track_running_stats=True)\n",
            ")\n"
          ]
        }
      ]
    },
    {
      "cell_type": "code",
      "source": [
        "# def Train + Performance Check\n",
        "def train(model, train_loader, optimizer, log_interval):\n",
        "  model.train()\n",
        "  for batch_idx, (image, label) in enumerate(train_loader):\n",
        "    image = image.to(DEVICE)\n",
        "    label = label.to(DEVICE)\n",
        "    optimizer.zero_grad()\n",
        "    output = model(image)\n",
        "    loss = criterion(output, label)\n",
        "    loss.backward()\n",
        "    optimizer.step()\n",
        "\n",
        "    if batch_idx % log_interval == 0:\n",
        "      print(\"Train Epoch: {} [{}/{}({:.0f}%)]\\tTrain Loss: {:.6f}\".format(\n",
        "          Epoch, batch_idx * len(image), len(train_loader.dataset),\n",
        "          100. * batch_idx / len(train_loader), loss.item()\n",
        "      ))"
      ],
      "metadata": {
        "id": "U4IlS2HwMlLx"
      },
      "execution_count": 33,
      "outputs": []
    },
    {
      "cell_type": "code",
      "source": [
        "# def Evaluate + Performance Check\n",
        "def evaluate(model, test_loader):\n",
        "  model.eval()\n",
        "  test_loss = 0\n",
        "  correct = 0\n",
        "\n",
        "  with torch.no_grad():\n",
        "    for image, label in test_loader:\n",
        "      image = image.to(DEVICE)\n",
        "      label = label.to(DEVICE)\n",
        "      output = model(image)\n",
        "      test_loss += criterion(output, label).item()\n",
        "      prediction = output.max(1, keepdim = True)[1]\n",
        "      correct += prediction.eq(label.view_as(prediction)).sum().item()\n",
        "    \n",
        "  test_loss /= len(test_loader.dataset)\n",
        "  test_accuracy = 100. * correct / len(test_loader.dataset)\n",
        "  return test_loss, test_accuracy"
      ],
      "metadata": {
        "id": "s_QfsRGrSReh"
      },
      "execution_count": 34,
      "outputs": []
    },
    {
      "cell_type": "code",
      "source": [
        "# Final\n",
        "for Epoch in range(1, EPOCHS + 1):\n",
        "  train(model, train_loader, optimizer, log_interval = 200)\n",
        "  test_loss, test_accuracy = evaluate(model, test_loader)\n",
        "  print(\"\\n[EPOCH: {}], \\tTest Loss: {:.4f}, \\tTest Accuracy: {:.2f} % \\n\".\n",
        "        format(Epoch, test_loss, test_accuracy))"
      ],
      "metadata": {
        "colab": {
          "base_uri": "https://localhost:8080/"
        },
        "id": "XKkxFsr-bYD3",
        "outputId": "c3ff6838-c76c-43ae-f7e3-fcf944fc23b1"
      },
      "execution_count": 35,
      "outputs": [
        {
          "output_type": "stream",
          "name": "stdout",
          "text": [
            "Train Epoch: 1 [0/60000(0%)]\tTrain Loss: 3.027883\n",
            "Train Epoch: 1 [6400/60000(11%)]\tTrain Loss: 0.882203\n",
            "Train Epoch: 1 [12800/60000(21%)]\tTrain Loss: 0.369695\n",
            "Train Epoch: 1 [19200/60000(32%)]\tTrain Loss: 0.243654\n",
            "Train Epoch: 1 [25600/60000(43%)]\tTrain Loss: 0.430332\n",
            "Train Epoch: 1 [32000/60000(53%)]\tTrain Loss: 0.325473\n",
            "Train Epoch: 1 [38400/60000(64%)]\tTrain Loss: 0.228256\n",
            "Train Epoch: 1 [44800/60000(75%)]\tTrain Loss: 0.459634\n",
            "Train Epoch: 1 [51200/60000(85%)]\tTrain Loss: 0.503405\n",
            "Train Epoch: 1 [57600/60000(96%)]\tTrain Loss: 0.186727\n",
            "\n",
            "[EPOCH: 1], \tTest Loss: 0.0039, \tTest Accuracy: 96.16 % \n",
            "\n",
            "Train Epoch: 2 [0/60000(0%)]\tTrain Loss: 0.520161\n",
            "Train Epoch: 2 [6400/60000(11%)]\tTrain Loss: 0.395982\n",
            "Train Epoch: 2 [12800/60000(21%)]\tTrain Loss: 0.158502\n",
            "Train Epoch: 2 [19200/60000(32%)]\tTrain Loss: 0.221100\n",
            "Train Epoch: 2 [25600/60000(43%)]\tTrain Loss: 0.143846\n",
            "Train Epoch: 2 [32000/60000(53%)]\tTrain Loss: 0.149397\n",
            "Train Epoch: 2 [38400/60000(64%)]\tTrain Loss: 0.235125\n",
            "Train Epoch: 2 [44800/60000(75%)]\tTrain Loss: 0.156326\n",
            "Train Epoch: 2 [51200/60000(85%)]\tTrain Loss: 0.090361\n",
            "Train Epoch: 2 [57600/60000(96%)]\tTrain Loss: 0.118926\n",
            "\n",
            "[EPOCH: 2], \tTest Loss: 0.0036, \tTest Accuracy: 96.46 % \n",
            "\n",
            "Train Epoch: 3 [0/60000(0%)]\tTrain Loss: 0.206462\n",
            "Train Epoch: 3 [6400/60000(11%)]\tTrain Loss: 0.163485\n",
            "Train Epoch: 3 [12800/60000(21%)]\tTrain Loss: 0.237404\n",
            "Train Epoch: 3 [19200/60000(32%)]\tTrain Loss: 0.050222\n",
            "Train Epoch: 3 [25600/60000(43%)]\tTrain Loss: 0.205466\n",
            "Train Epoch: 3 [32000/60000(53%)]\tTrain Loss: 0.552360\n",
            "Train Epoch: 3 [38400/60000(64%)]\tTrain Loss: 0.336398\n",
            "Train Epoch: 3 [44800/60000(75%)]\tTrain Loss: 0.111256\n",
            "Train Epoch: 3 [51200/60000(85%)]\tTrain Loss: 0.056610\n",
            "Train Epoch: 3 [57600/60000(96%)]\tTrain Loss: 0.082432\n",
            "\n",
            "[EPOCH: 3], \tTest Loss: 0.0029, \tTest Accuracy: 96.87 % \n",
            "\n",
            "Train Epoch: 4 [0/60000(0%)]\tTrain Loss: 0.147192\n",
            "Train Epoch: 4 [6400/60000(11%)]\tTrain Loss: 0.098169\n",
            "Train Epoch: 4 [12800/60000(21%)]\tTrain Loss: 0.373051\n",
            "Train Epoch: 4 [19200/60000(32%)]\tTrain Loss: 0.213099\n",
            "Train Epoch: 4 [25600/60000(43%)]\tTrain Loss: 0.239700\n",
            "Train Epoch: 4 [32000/60000(53%)]\tTrain Loss: 0.471771\n",
            "Train Epoch: 4 [38400/60000(64%)]\tTrain Loss: 0.156360\n",
            "Train Epoch: 4 [44800/60000(75%)]\tTrain Loss: 0.272443\n",
            "Train Epoch: 4 [51200/60000(85%)]\tTrain Loss: 0.720358\n",
            "Train Epoch: 4 [57600/60000(96%)]\tTrain Loss: 0.035498\n",
            "\n",
            "[EPOCH: 4], \tTest Loss: 0.0027, \tTest Accuracy: 97.20 % \n",
            "\n",
            "Train Epoch: 5 [0/60000(0%)]\tTrain Loss: 0.201483\n",
            "Train Epoch: 5 [6400/60000(11%)]\tTrain Loss: 0.110959\n",
            "Train Epoch: 5 [12800/60000(21%)]\tTrain Loss: 0.215098\n",
            "Train Epoch: 5 [19200/60000(32%)]\tTrain Loss: 0.004033\n",
            "Train Epoch: 5 [25600/60000(43%)]\tTrain Loss: 0.074975\n",
            "Train Epoch: 5 [32000/60000(53%)]\tTrain Loss: 0.080530\n",
            "Train Epoch: 5 [38400/60000(64%)]\tTrain Loss: 0.022495\n",
            "Train Epoch: 5 [44800/60000(75%)]\tTrain Loss: 0.123470\n",
            "Train Epoch: 5 [51200/60000(85%)]\tTrain Loss: 0.223900\n",
            "Train Epoch: 5 [57600/60000(96%)]\tTrain Loss: 0.212214\n",
            "\n",
            "[EPOCH: 5], \tTest Loss: 0.0025, \tTest Accuracy: 97.51 % \n",
            "\n",
            "Train Epoch: 6 [0/60000(0%)]\tTrain Loss: 0.183529\n",
            "Train Epoch: 6 [6400/60000(11%)]\tTrain Loss: 0.437977\n",
            "Train Epoch: 6 [12800/60000(21%)]\tTrain Loss: 0.252764\n",
            "Train Epoch: 6 [19200/60000(32%)]\tTrain Loss: 0.132766\n",
            "Train Epoch: 6 [25600/60000(43%)]\tTrain Loss: 0.116807\n",
            "Train Epoch: 6 [32000/60000(53%)]\tTrain Loss: 0.173766\n",
            "Train Epoch: 6 [38400/60000(64%)]\tTrain Loss: 0.197033\n",
            "Train Epoch: 6 [44800/60000(75%)]\tTrain Loss: 0.184766\n",
            "Train Epoch: 6 [51200/60000(85%)]\tTrain Loss: 0.215992\n",
            "Train Epoch: 6 [57600/60000(96%)]\tTrain Loss: 0.051311\n",
            "\n",
            "[EPOCH: 6], \tTest Loss: 0.0024, \tTest Accuracy: 97.67 % \n",
            "\n",
            "Train Epoch: 7 [0/60000(0%)]\tTrain Loss: 0.669875\n",
            "Train Epoch: 7 [6400/60000(11%)]\tTrain Loss: 0.097923\n",
            "Train Epoch: 7 [12800/60000(21%)]\tTrain Loss: 0.071554\n",
            "Train Epoch: 7 [19200/60000(32%)]\tTrain Loss: 0.263451\n",
            "Train Epoch: 7 [25600/60000(43%)]\tTrain Loss: 0.053786\n",
            "Train Epoch: 7 [32000/60000(53%)]\tTrain Loss: 0.388416\n",
            "Train Epoch: 7 [38400/60000(64%)]\tTrain Loss: 0.035685\n",
            "Train Epoch: 7 [44800/60000(75%)]\tTrain Loss: 0.317186\n",
            "Train Epoch: 7 [51200/60000(85%)]\tTrain Loss: 0.383450\n",
            "Train Epoch: 7 [57600/60000(96%)]\tTrain Loss: 0.062109\n",
            "\n",
            "[EPOCH: 7], \tTest Loss: 0.0023, \tTest Accuracy: 97.70 % \n",
            "\n",
            "Train Epoch: 8 [0/60000(0%)]\tTrain Loss: 0.091237\n",
            "Train Epoch: 8 [6400/60000(11%)]\tTrain Loss: 0.073737\n",
            "Train Epoch: 8 [12800/60000(21%)]\tTrain Loss: 0.108584\n",
            "Train Epoch: 8 [19200/60000(32%)]\tTrain Loss: 0.012911\n",
            "Train Epoch: 8 [25600/60000(43%)]\tTrain Loss: 0.062866\n",
            "Train Epoch: 8 [32000/60000(53%)]\tTrain Loss: 0.183950\n",
            "Train Epoch: 8 [38400/60000(64%)]\tTrain Loss: 0.144515\n",
            "Train Epoch: 8 [44800/60000(75%)]\tTrain Loss: 0.069098\n",
            "Train Epoch: 8 [51200/60000(85%)]\tTrain Loss: 0.186508\n",
            "Train Epoch: 8 [57600/60000(96%)]\tTrain Loss: 0.079711\n",
            "\n",
            "[EPOCH: 8], \tTest Loss: 0.0022, \tTest Accuracy: 97.88 % \n",
            "\n",
            "Train Epoch: 9 [0/60000(0%)]\tTrain Loss: 0.082911\n",
            "Train Epoch: 9 [6400/60000(11%)]\tTrain Loss: 0.188108\n",
            "Train Epoch: 9 [12800/60000(21%)]\tTrain Loss: 0.046581\n",
            "Train Epoch: 9 [19200/60000(32%)]\tTrain Loss: 0.152308\n",
            "Train Epoch: 9 [25600/60000(43%)]\tTrain Loss: 0.023124\n",
            "Train Epoch: 9 [32000/60000(53%)]\tTrain Loss: 0.555492\n",
            "Train Epoch: 9 [38400/60000(64%)]\tTrain Loss: 0.312323\n",
            "Train Epoch: 9 [44800/60000(75%)]\tTrain Loss: 0.151847\n",
            "Train Epoch: 9 [51200/60000(85%)]\tTrain Loss: 0.132222\n",
            "Train Epoch: 9 [57600/60000(96%)]\tTrain Loss: 0.040230\n",
            "\n",
            "[EPOCH: 9], \tTest Loss: 0.0021, \tTest Accuracy: 97.98 % \n",
            "\n",
            "Train Epoch: 10 [0/60000(0%)]\tTrain Loss: 0.184227\n",
            "Train Epoch: 10 [6400/60000(11%)]\tTrain Loss: 0.136187\n",
            "Train Epoch: 10 [12800/60000(21%)]\tTrain Loss: 0.209777\n",
            "Train Epoch: 10 [19200/60000(32%)]\tTrain Loss: 0.043026\n",
            "Train Epoch: 10 [25600/60000(43%)]\tTrain Loss: 0.037842\n",
            "Train Epoch: 10 [32000/60000(53%)]\tTrain Loss: 0.139413\n",
            "Train Epoch: 10 [38400/60000(64%)]\tTrain Loss: 0.106623\n",
            "Train Epoch: 10 [44800/60000(75%)]\tTrain Loss: 0.119828\n",
            "Train Epoch: 10 [51200/60000(85%)]\tTrain Loss: 0.078691\n",
            "Train Epoch: 10 [57600/60000(96%)]\tTrain Loss: 0.086210\n",
            "\n",
            "[EPOCH: 10], \tTest Loss: 0.0021, \tTest Accuracy: 98.08 % \n",
            "\n"
          ]
        }
      ]
    }
  ]
}